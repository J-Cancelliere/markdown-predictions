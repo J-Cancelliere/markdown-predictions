{
 "cells": [
  {
   "cell_type": "code",
   "execution_count": 49,
   "id": "d48005cb",
   "metadata": {},
   "outputs": [],
   "source": [
    "import pandas as pd\n",
    "import numpy as np"
   ]
  },
  {
   "cell_type": "markdown",
   "id": "3eefdacc",
   "metadata": {},
   "source": [
    "# Initial data review and cleaning"
   ]
  },
  {
   "cell_type": "markdown",
   "id": "af2f9e84",
   "metadata": {},
   "source": [
    "## Import a CSV file"
   ]
  },
  {
   "cell_type": "code",
   "execution_count": 127,
   "id": "418b4049",
   "metadata": {
    "scrolled": false
   },
   "outputs": [
    {
     "data": {
      "text/html": [
       "<div>\n",
       "<style scoped>\n",
       "    .dataframe tbody tr th:only-of-type {\n",
       "        vertical-align: middle;\n",
       "    }\n",
       "\n",
       "    .dataframe tbody tr th {\n",
       "        vertical-align: top;\n",
       "    }\n",
       "\n",
       "    .dataframe thead th {\n",
       "        text-align: right;\n",
       "    }\n",
       "</style>\n",
       "<table border=\"1\" class=\"dataframe\">\n",
       "  <thead>\n",
       "    <tr style=\"text-align: right;\">\n",
       "      <th></th>\n",
       "      <th>Code OP Com.</th>\n",
       "      <th>Libellé OP Com.</th>\n",
       "      <th>Vitrine collection</th>\n",
       "      <th>Cible</th>\n",
       "      <th>Sous-cible</th>\n",
       "      <th>Sexe</th>\n",
       "      <th>Catégorie</th>\n",
       "      <th>Famille</th>\n",
       "      <th>Sous-Famille</th>\n",
       "      <th>Macro catégorie</th>\n",
       "      <th>...</th>\n",
       "      <th>Semaine 1ère vte\\nN</th>\n",
       "      <th>Défilement\\nN</th>\n",
       "      <th>Tx Ecoul\\nCumul\\nN</th>\n",
       "      <th>Engagement global\\nN</th>\n",
       "      <th>Tx Ecoul. sur Engt\\nCumul\\nN</th>\n",
       "      <th>Stk Dispo\\nEntrepot\\nN</th>\n",
       "      <th>Stk hors Dispo\\npour Réassort\\nN</th>\n",
       "      <th>Stk Dispo\\nRAL\\nCdeGen\\nN</th>\n",
       "      <th>Stk Dispo\\npour Réassort\\nN</th>\n",
       "      <th>%</th>\n",
       "    </tr>\n",
       "  </thead>\n",
       "  <tbody>\n",
       "    <tr>\n",
       "      <th>0</th>\n",
       "      <td>00A</td>\n",
       "      <td>AH2018 SELECTIF EARLY SEASON</td>\n",
       "      <td>18 S VET EARLY JRENF-RDC GRAPH</td>\n",
       "      <td>2-ENFANT</td>\n",
       "      <td>PETIT</td>\n",
       "      <td>MA</td>\n",
       "      <td>JOUR</td>\n",
       "      <td>FA GROSSES PIECES          VET</td>\n",
       "      <td>PARKAS                  VET</td>\n",
       "      <td>Enfant Jour</td>\n",
       "      <td>...</td>\n",
       "      <td>2018-S29</td>\n",
       "      <td>0.82</td>\n",
       "      <td>83 %</td>\n",
       "      <td>6,457</td>\n",
       "      <td>52 %</td>\n",
       "      <td>-1</td>\n",
       "      <td>-55</td>\n",
       "      <td>0</td>\n",
       "      <td>0</td>\n",
       "      <td>30%</td>\n",
       "    </tr>\n",
       "    <tr>\n",
       "      <th>1</th>\n",
       "      <td>00A</td>\n",
       "      <td>AH2018 SELECTIF EARLY SEASON</td>\n",
       "      <td>18 S VET EARLY AD_JOUR_MARIN D</td>\n",
       "      <td>3-ADULTE</td>\n",
       "      <td>FEMME</td>\n",
       "      <td>FE</td>\n",
       "      <td>JOUR</td>\n",
       "      <td>FA GROSSES PIECES          VET</td>\n",
       "      <td>CIRES, COUPE VENT       VET</td>\n",
       "      <td>Adulte Jour</td>\n",
       "      <td>...</td>\n",
       "      <td>2018-S29</td>\n",
       "      <td>0.44</td>\n",
       "      <td>49 %</td>\n",
       "      <td>2,878</td>\n",
       "      <td>57 %</td>\n",
       "      <td>0</td>\n",
       "      <td>0</td>\n",
       "      <td>0</td>\n",
       "      <td>0</td>\n",
       "      <td>30%</td>\n",
       "    </tr>\n",
       "    <tr>\n",
       "      <th>2</th>\n",
       "      <td>03A</td>\n",
       "      <td>AH2018 SELECTIF MID SEASON</td>\n",
       "      <td>18 S VET MID AD_ICONICOLOR 1</td>\n",
       "      <td>3-ADULTE</td>\n",
       "      <td>FEMME</td>\n",
       "      <td>FE</td>\n",
       "      <td>JOUR</td>\n",
       "      <td>FA GROSSES PIECES          VET</td>\n",
       "      <td>CIRES, COUPE VENT       VET</td>\n",
       "      <td>Adulte Jour</td>\n",
       "      <td>...</td>\n",
       "      <td>2018-S42</td>\n",
       "      <td>0.84</td>\n",
       "      <td>51 %</td>\n",
       "      <td>2,419</td>\n",
       "      <td>56 %</td>\n",
       "      <td>-3</td>\n",
       "      <td>-239</td>\n",
       "      <td>0</td>\n",
       "      <td>0</td>\n",
       "      <td>30%</td>\n",
       "    </tr>\n",
       "    <tr>\n",
       "      <th>3</th>\n",
       "      <td>03A</td>\n",
       "      <td>AH2018 SELECTIF MID SEASON</td>\n",
       "      <td>18 S VET MID JRBB-COLORAMAILLE</td>\n",
       "      <td>1-BEBE</td>\n",
       "      <td>BEBE Debout</td>\n",
       "      <td>MA</td>\n",
       "      <td>JOUR</td>\n",
       "      <td>FA GROSSES PIECES          VET</td>\n",
       "      <td>CIRES, COUPE VENT       VET</td>\n",
       "      <td>Bébé Debout</td>\n",
       "      <td>...</td>\n",
       "      <td>2018-S34</td>\n",
       "      <td>1.43</td>\n",
       "      <td>62 %</td>\n",
       "      <td>3,712</td>\n",
       "      <td>55 %</td>\n",
       "      <td>0</td>\n",
       "      <td>-25</td>\n",
       "      <td>0</td>\n",
       "      <td>0</td>\n",
       "      <td>30%</td>\n",
       "    </tr>\n",
       "    <tr>\n",
       "      <th>4</th>\n",
       "      <td>03A</td>\n",
       "      <td>AH2018 SELECTIF MID SEASON</td>\n",
       "      <td>18 S VET MID JRENF-RDC PREPPY</td>\n",
       "      <td>2-ENFANT</td>\n",
       "      <td>PETIT</td>\n",
       "      <td>FE</td>\n",
       "      <td>JOUR</td>\n",
       "      <td>FA GROSSES PIECES          VET</td>\n",
       "      <td>MANTEAUX                VET</td>\n",
       "      <td>Enfant Jour</td>\n",
       "      <td>...</td>\n",
       "      <td>2018-S36</td>\n",
       "      <td>0.29</td>\n",
       "      <td>22 %</td>\n",
       "      <td>5,728</td>\n",
       "      <td>16 %</td>\n",
       "      <td>0</td>\n",
       "      <td>-7</td>\n",
       "      <td>0</td>\n",
       "      <td>0</td>\n",
       "      <td>30%</td>\n",
       "    </tr>\n",
       "  </tbody>\n",
       "</table>\n",
       "<p>5 rows × 50 columns</p>\n",
       "</div>"
      ],
      "text/plain": [
       "  Code OP Com.               Libellé OP Com.              Vitrine collection  \\\n",
       "0          00A  AH2018 SELECTIF EARLY SEASON  18 S VET EARLY JRENF-RDC GRAPH   \n",
       "1          00A  AH2018 SELECTIF EARLY SEASON  18 S VET EARLY AD_JOUR_MARIN D   \n",
       "2          03A    AH2018 SELECTIF MID SEASON    18 S VET MID AD_ICONICOLOR 1   \n",
       "3          03A    AH2018 SELECTIF MID SEASON  18 S VET MID JRBB-COLORAMAILLE   \n",
       "4          03A    AH2018 SELECTIF MID SEASON   18 S VET MID JRENF-RDC PREPPY   \n",
       "\n",
       "      Cible   Sous-cible Sexe Catégorie                         Famille  \\\n",
       "0  2-ENFANT        PETIT   MA      JOUR  FA GROSSES PIECES          VET   \n",
       "1  3-ADULTE        FEMME   FE      JOUR  FA GROSSES PIECES          VET   \n",
       "2  3-ADULTE        FEMME   FE      JOUR  FA GROSSES PIECES          VET   \n",
       "3    1-BEBE  BEBE Debout   MA      JOUR  FA GROSSES PIECES          VET   \n",
       "4  2-ENFANT        PETIT   FE      JOUR  FA GROSSES PIECES          VET   \n",
       "\n",
       "                  Sous-Famille Macro catégorie  ... Semaine 1ère vte\\nN  \\\n",
       "0  PARKAS                  VET     Enfant Jour  ...            2018-S29   \n",
       "1  CIRES, COUPE VENT       VET     Adulte Jour  ...            2018-S29   \n",
       "2  CIRES, COUPE VENT       VET     Adulte Jour  ...            2018-S42   \n",
       "3  CIRES, COUPE VENT       VET     Bébé Debout  ...            2018-S34   \n",
       "4  MANTEAUX                VET     Enfant Jour  ...            2018-S36   \n",
       "\n",
       "   Défilement\\nN Tx Ecoul\\nCumul\\nN Engagement global\\nN  \\\n",
       "0           0.82               83 %                6,457   \n",
       "1           0.44               49 %                2,878   \n",
       "2           0.84               51 %                2,419   \n",
       "3           1.43               62 %                3,712   \n",
       "4           0.29               22 %                5,728   \n",
       "\n",
       "  Tx Ecoul. sur Engt\\nCumul\\nN Stk Dispo\\nEntrepot\\nN  \\\n",
       "0                         52 %                     -1   \n",
       "1                         57 %                      0   \n",
       "2                         56 %                     -3   \n",
       "3                         55 %                      0   \n",
       "4                         16 %                      0   \n",
       "\n",
       "  Stk hors Dispo\\npour Réassort\\nN  Stk Dispo\\nRAL\\nCdeGen\\nN  \\\n",
       "0                              -55                          0   \n",
       "1                                0                          0   \n",
       "2                             -239                          0   \n",
       "3                              -25                          0   \n",
       "4                               -7                          0   \n",
       "\n",
       "   Stk Dispo\\npour Réassort\\nN    %  \n",
       "0                            0  30%  \n",
       "1                            0  30%  \n",
       "2                            0  30%  \n",
       "3                            0  30%  \n",
       "4                            0  30%  \n",
       "\n",
       "[5 rows x 50 columns]"
      ]
     },
     "execution_count": 127,
     "metadata": {},
     "output_type": "execute_result"
    }
   ],
   "source": [
    "df = pd.read_csv(\"../raw_data/AW18 W3 POST.csv\")\n",
    "df.head()"
   ]
  },
  {
   "cell_type": "markdown",
   "id": "803cc85d",
   "metadata": {},
   "source": [
    "## clean up and replace column names"
   ]
  },
  {
   "cell_type": "code",
   "execution_count": 128,
   "id": "b0213144",
   "metadata": {},
   "outputs": [],
   "source": [
    "columns = list(df.columns)"
   ]
  },
  {
   "cell_type": "code",
   "execution_count": 129,
   "id": "5d710399",
   "metadata": {},
   "outputs": [],
   "source": [
    "renamed_columns = []\n",
    "for c in columns:\n",
    "    c = c.lower()\n",
    "    c = c.replace(\"sem\",\"\")\n",
    "    c = c.replace(\"\\n\",\"\")\n",
    "    c = c.replace(\"+\",\"\")\n",
    "    c = c.replace(\".\",\"\")\n",
    "    c = c.replace(\"-\",\"_\")\n",
    "    c = c.replace(\" \",\"_\")\n",
    "    c = c.replace(\"é\",\"e\")\n",
    "    c = c.replace(\"è\",\"e\")\n",
    "    renamed_columns.append(c)"
   ]
  },
  {
   "cell_type": "code",
   "execution_count": 130,
   "id": "b8dd7fdb",
   "metadata": {},
   "outputs": [],
   "source": [
    "columns_dict = {c:r for c,r in zip(columns,renamed_columns)}"
   ]
  },
  {
   "cell_type": "code",
   "execution_count": 131,
   "id": "916f9e4f",
   "metadata": {
    "scrolled": true
   },
   "outputs": [],
   "source": [
    "df.rename(columns = columns_dict, inplace = True)"
   ]
  },
  {
   "cell_type": "code",
   "execution_count": 132,
   "id": "7a646bcc",
   "metadata": {},
   "outputs": [],
   "source": [
    "df.drop(columns=[\"tx_ecouln\",\"defilementn\"], inplace = True)"
   ]
  },
  {
   "cell_type": "markdown",
   "id": "f5e9a1aa",
   "metadata": {
    "heading_collapsed": true
   },
   "source": [
    "## Import the rest of the CSVs and combine the dataframes"
   ]
  },
  {
   "cell_type": "code",
   "execution_count": 133,
   "id": "70b73d28",
   "metadata": {
    "hidden": true
   },
   "outputs": [],
   "source": [
    "csv_files = [\"AW19 W3 POST.csv\",\"AW20 W2 POST.csv\",\"SS18 W27 POST.csv\",\"SS19 W27 POST.csv\",\"SS21 W27 POST.csv\"]"
   ]
  },
  {
   "cell_type": "code",
   "execution_count": 134,
   "id": "9738a1be",
   "metadata": {
    "hidden": true
   },
   "outputs": [],
   "source": [
    "new_dfs = [df]\n",
    "for csv in csv_files:\n",
    "    # Read DF from CSV file\n",
    "    add_df = pd.read_csv(f\"../raw_data/{csv}\")\n",
    "    \n",
    "    # Clean up and replace column names for each DF\n",
    "    renamed_columns = []\n",
    "    columns = list(add_df.columns)\n",
    "    for c in columns:\n",
    "        c = c.lower()\n",
    "        c = c.replace(\"sem\",\"\")\n",
    "        c = c.replace(\"\\n\",\"\")\n",
    "        c = c.replace(\"\\r\",\"\")\n",
    "        c = c.replace(\"+\",\"\")\n",
    "        c = c.replace(\".\",\"\")\n",
    "        c = c.replace(\"-\",\"_\")\n",
    "        c = c.replace(\" \",\"_\")\n",
    "        c = c.replace(\"é\",\"e\")\n",
    "        c = c.replace(\"è\",\"e\")\n",
    "        renamed_columns.append(c)\n",
    "    columns_dict = {c:r for c,r in zip(columns,renamed_columns)}\n",
    "    add_df.rename(columns=columns_dict, inplace=True)\n",
    "    \n",
    "    # Drop columns that are duplicated\n",
    "    add_df.drop(columns=[\"tx_ecouln\",\"defilementn\"], errors = \"ignore\", inplace = True)\n",
    "    \n",
    "    # Add to list of DFs to concatenate\n",
    "    new_dfs.append(add_df)"
   ]
  },
  {
   "cell_type": "code",
   "execution_count": 135,
   "id": "00433892",
   "metadata": {
    "hidden": true
   },
   "outputs": [],
   "source": [
    "data = pd.concat(new_dfs)"
   ]
  },
  {
   "cell_type": "code",
   "execution_count": 136,
   "id": "d8c71867",
   "metadata": {
    "hidden": true
   },
   "outputs": [],
   "source": [
    "data.reset_index(inplace = True)"
   ]
  },
  {
   "cell_type": "markdown",
   "id": "2151ef55",
   "metadata": {},
   "source": [
    "## Feature cleaning functions"
   ]
  },
  {
   "cell_type": "markdown",
   "id": "a821ecf3",
   "metadata": {},
   "source": [
    "### Fix comma decimal values"
   ]
  },
  {
   "cell_type": "markdown",
   "id": "73a9f078",
   "metadata": {},
   "source": [
    "There are some features that use French style decimalisation. These commas need to be changed to full stops in order to convert columns to numeric dtype."
   ]
  },
  {
   "cell_type": "code",
   "execution_count": 173,
   "id": "136ad9b4",
   "metadata": {},
   "outputs": [],
   "source": [
    "def replace_commas(text):\n",
    "    text = str(text).replace(\",\",\".\")\n",
    "    return text"
   ]
  },
  {
   "cell_type": "markdown",
   "id": "2b294563",
   "metadata": {},
   "source": [
    "### Remove commas"
   ]
  },
  {
   "cell_type": "markdown",
   "id": "7b856c7f",
   "metadata": {},
   "source": [
    "Several other numeric features contain commas as a place separator, also preventing conversion to numeric dtype. This function will remove the commas and strip any whitespace."
   ]
  },
  {
   "cell_type": "code",
   "execution_count": 216,
   "id": "135a6ebb",
   "metadata": {},
   "outputs": [],
   "source": [
    "def remove_comma(text):\n",
    "    text = text.replace(\",\",\"\").strip()\n",
    "    return text"
   ]
  },
  {
   "cell_type": "markdown",
   "id": "f0996701",
   "metadata": {},
   "source": [
    "### Change dashes to np.nan"
   ]
  },
  {
   "cell_type": "markdown",
   "id": "326c69ee",
   "metadata": {},
   "source": [
    "The dataset contains quite a few rows were a dash (\"-\") has been added instead of a null value. Some of these may be imputable, but at this stage it these will be converted to np.nan to allow dtype conversion. They can be dropped or imputed during the next stages of analysis."
   ]
  },
  {
   "cell_type": "code",
   "execution_count": 138,
   "id": "bf2f6ebd",
   "metadata": {},
   "outputs": [],
   "source": [
    "def make_dash_null(text):\n",
    "    return np.nan if text == \"-\" else text"
   ]
  },
  {
   "cell_type": "markdown",
   "id": "af673be4",
   "metadata": {},
   "source": [
    "### Remove currency symbols"
   ]
  },
  {
   "cell_type": "markdown",
   "id": "73698005",
   "metadata": {},
   "source": [
    "Several numeric features contain the symbol for EUR (€), preventing conversion to numeric dtype. This function will remove the symbol and strip any whitespace."
   ]
  },
  {
   "cell_type": "code",
   "execution_count": 212,
   "id": "146078d0",
   "metadata": {},
   "outputs": [],
   "source": [
    "def remove_euro(text):\n",
    "    text = text.replace(\"€\",\"\").strip()\n",
    "    return text"
   ]
  },
  {
   "cell_type": "markdown",
   "id": "ad09e1a9",
   "metadata": {},
   "source": [
    "## Initial Feature Review"
   ]
  },
  {
   "cell_type": "code",
   "execution_count": 209,
   "id": "41537bc7",
   "metadata": {},
   "outputs": [
    {
     "data": {
      "text/plain": [
       "['ca_net_ttcn',\n",
       " 'ca_net_ttc_1n',\n",
       " 'ca_net_ttc_2n',\n",
       " 'ca_net_ttc_3n',\n",
       " 'qte_venduesn',\n",
       " 'qte_vendues_1n',\n",
       " 'qte_vendues_2n',\n",
       " 'qte_vendues_3n',\n",
       " 'taux_de_remisen',\n",
       " 'taux_de_remise_1n',\n",
       " 'stock_pdvn',\n",
       " 'stk_transitn',\n",
       " 'stock_pdv__transit',\n",
       " 'couverturen',\n",
       " 'defilementn',\n",
       " 'ca_net_ttccumuln',\n",
       " 'taux_de_remisecumuln',\n",
       " 'qte_venduescumuln',\n",
       " 'nb_rcten_venten',\n",
       " 'nb_pdvavec_rc_en_venten',\n",
       " 'vte_moyennesrct/point_de_venten',\n",
       " 'aine_1ere_vten',\n",
       " 'defilementn',\n",
       " 'tx_ecoulcumuln',\n",
       " 'engagement_globaln',\n",
       " 'tx_ecoul_sur_engtcumuln',\n",
       " 'stk_dispoentrepotn',\n",
       " 'stk_hors_dispopour_reassortn',\n",
       " 'stk_disporalcdegenn',\n",
       " 'stk_dispopour_reassortn',\n",
       " '%']"
      ]
     },
     "execution_count": 209,
     "metadata": {},
     "output_type": "execute_result"
    }
   ],
   "source": [
    "renamed_columns[19:]"
   ]
  },
  {
   "cell_type": "markdown",
   "id": "003d6487",
   "metadata": {
    "heading_collapsed": true
   },
   "source": [
    "### code_op_com"
   ]
  },
  {
   "cell_type": "markdown",
   "id": "0f4613be",
   "metadata": {
    "hidden": true
   },
   "source": [
    "Product codes. Not valuable as an input feature. Drop from the dataframe."
   ]
  },
  {
   "cell_type": "code",
   "execution_count": 140,
   "id": "2d5cba90",
   "metadata": {
    "hidden": true
   },
   "outputs": [],
   "source": [
    "columns_to_drop = [\"code_op_com\"]"
   ]
  },
  {
   "cell_type": "markdown",
   "id": "75d6cf4d",
   "metadata": {
    "heading_collapsed": true
   },
   "source": [
    "### libelle_op_com"
   ]
  },
  {
   "cell_type": "markdown",
   "id": "1ddc98ae",
   "metadata": {
    "hidden": true
   },
   "source": [
    "Year and season of the product. Inconsistent naming, so it's likely best to drop."
   ]
  },
  {
   "cell_type": "code",
   "execution_count": 200,
   "id": "aae888a5",
   "metadata": {
    "hidden": true
   },
   "outputs": [
    {
     "data": {
      "text/plain": [
       "78"
      ]
     },
     "execution_count": 200,
     "metadata": {},
     "output_type": "execute_result"
    }
   ],
   "source": [
    "data.libelle_op_com.nunique()"
   ]
  },
  {
   "cell_type": "code",
   "execution_count": 201,
   "id": "502d5671",
   "metadata": {
    "hidden": true
   },
   "outputs": [],
   "source": [
    "columns_to_drop.append(\"libelle_op_com\")"
   ]
  },
  {
   "cell_type": "markdown",
   "id": "8abe7eb2",
   "metadata": {
    "heading_collapsed": true
   },
   "source": [
    "### vitrine_collection"
   ]
  },
  {
   "cell_type": "markdown",
   "id": "89079d33",
   "metadata": {
    "hidden": true
   },
   "source": [
    "Window display details. Inconsistent strings of text. Best to drop"
   ]
  },
  {
   "cell_type": "code",
   "execution_count": 196,
   "id": "4a3143be",
   "metadata": {
    "hidden": true
   },
   "outputs": [
    {
     "data": {
      "text/plain": [
       "950"
      ]
     },
     "execution_count": 196,
     "metadata": {},
     "output_type": "execute_result"
    }
   ],
   "source": [
    "data.vitrine_collection.nunique()"
   ]
  },
  {
   "cell_type": "code",
   "execution_count": 143,
   "id": "0b150461",
   "metadata": {
    "hidden": true
   },
   "outputs": [],
   "source": [
    "columns_to_drop.append(\"vitrine_collection\")"
   ]
  },
  {
   "cell_type": "markdown",
   "id": "84716138",
   "metadata": {
    "heading_collapsed": true
   },
   "source": [
    "### cible"
   ]
  },
  {
   "cell_type": "markdown",
   "id": "6bc5e50c",
   "metadata": {
    "hidden": true
   },
   "source": [
    "\"Target\" - categorical feature split between baby, child, and adult. Null values to impute or drop."
   ]
  },
  {
   "cell_type": "code",
   "execution_count": 194,
   "id": "a0fcc7b0",
   "metadata": {
    "hidden": true
   },
   "outputs": [
    {
     "data": {
      "text/plain": [
       "array(['2-ENFANT', '3-ADULTE', '1-BEBE', '-', nan], dtype=object)"
      ]
     },
     "execution_count": 194,
     "metadata": {},
     "output_type": "execute_result"
    }
   ],
   "source": [
    "data.cible.unique()"
   ]
  },
  {
   "cell_type": "code",
   "execution_count": 195,
   "id": "49bc7a65",
   "metadata": {
    "hidden": true
   },
   "outputs": [
    {
     "data": {
      "text/plain": [
       "1-BEBE      5555\n",
       "2-ENFANT    5194\n",
       "3-ADULTE    2898\n",
       "-             26\n",
       "Name: cible, dtype: int64"
      ]
     },
     "execution_count": 195,
     "metadata": {},
     "output_type": "execute_result"
    }
   ],
   "source": [
    "data.cible.value_counts()"
   ]
  },
  {
   "cell_type": "markdown",
   "id": "554be6e3",
   "metadata": {
    "heading_collapsed": true
   },
   "source": [
    "### sous_cible"
   ]
  },
  {
   "cell_type": "markdown",
   "id": "6e6d14f6",
   "metadata": {
    "hidden": true
   },
   "source": [
    "\"Sub-target\" category split into more granular items. May be worth encoding, but might also be too noisy."
   ]
  },
  {
   "cell_type": "code",
   "execution_count": 192,
   "id": "bab4ae88",
   "metadata": {
    "hidden": true
   },
   "outputs": [
    {
     "data": {
      "text/plain": [
       "array(['PETIT', 'FEMME', 'BEBE Debout', 'BEBE Couché', 'GRAND', 'HOMME',\n",
       "       nan], dtype=object)"
      ]
     },
     "execution_count": 192,
     "metadata": {},
     "output_type": "execute_result"
    }
   ],
   "source": [
    "data.sous_cible.unique()"
   ]
  },
  {
   "cell_type": "code",
   "execution_count": 193,
   "id": "9a026dd3",
   "metadata": {
    "hidden": true
   },
   "outputs": [
    {
     "data": {
      "text/plain": [
       "PETIT          4757\n",
       "BEBE Debout    4109\n",
       "FEMME          2608\n",
       "BEBE Couché    1446\n",
       "GRAND           463\n",
       "HOMME           290\n",
       "Name: sous_cible, dtype: int64"
      ]
     },
     "execution_count": 193,
     "metadata": {},
     "output_type": "execute_result"
    }
   ],
   "source": [
    "data.sous_cible.value_counts()"
   ]
  },
  {
   "cell_type": "markdown",
   "id": "12c1073f",
   "metadata": {
    "heading_collapsed": true
   },
   "source": [
    "### sexe"
   ]
  },
  {
   "cell_type": "markdown",
   "id": "1fd96215",
   "metadata": {
    "hidden": true
   },
   "source": [
    "Gender of the product - male/female/unisex. Relatively balanced categorical feature"
   ]
  },
  {
   "cell_type": "code",
   "execution_count": 190,
   "id": "98d6741f",
   "metadata": {
    "hidden": true
   },
   "outputs": [
    {
     "data": {
      "text/plain": [
       "array(['MA', 'FE', 'MI', nan], dtype=object)"
      ]
     },
     "execution_count": 190,
     "metadata": {},
     "output_type": "execute_result"
    }
   ],
   "source": [
    "data.sexe.unique()"
   ]
  },
  {
   "cell_type": "code",
   "execution_count": 191,
   "id": "056a8954",
   "metadata": {
    "hidden": true
   },
   "outputs": [
    {
     "data": {
      "text/plain": [
       "FE    5604\n",
       "MI    4769\n",
       "MA    3300\n",
       "Name: sexe, dtype: int64"
      ]
     },
     "execution_count": 191,
     "metadata": {},
     "output_type": "execute_result"
    }
   ],
   "source": [
    "data.sexe.value_counts()"
   ]
  },
  {
   "cell_type": "markdown",
   "id": "cc673416",
   "metadata": {
    "heading_collapsed": true
   },
   "source": [
    "### categorie"
   ]
  },
  {
   "cell_type": "markdown",
   "id": "0889c673",
   "metadata": {
    "hidden": true
   },
   "source": [
    "Categorical feature - apparel vertical. Potentially some imbalanced categories."
   ]
  },
  {
   "cell_type": "code",
   "execution_count": 189,
   "id": "95a26001",
   "metadata": {
    "hidden": true
   },
   "outputs": [
    {
     "data": {
      "text/plain": [
       "array(['JOUR', 'NUIT', 'SS VET', 'AISV', 'PUERICULTURE', 'ACCESSOIRES',\n",
       "       'CHAUSSURES', nan], dtype=object)"
      ]
     },
     "execution_count": 189,
     "metadata": {},
     "output_type": "execute_result"
    }
   ],
   "source": [
    "data.categorie.unique()"
   ]
  },
  {
   "cell_type": "code",
   "execution_count": 188,
   "id": "8625a17c",
   "metadata": {
    "hidden": true
   },
   "outputs": [
    {
     "data": {
      "text/plain": [
       "JOUR            4957\n",
       "SS VET          2404\n",
       "AISV            2149\n",
       "NUIT            2028\n",
       "ACCESSOIRES     1840\n",
       "PUERICULTURE     265\n",
       "CHAUSSURES        30\n",
       "Name: categorie, dtype: int64"
      ]
     },
     "execution_count": 188,
     "metadata": {},
     "output_type": "execute_result"
    }
   ],
   "source": [
    "data.categorie.value_counts()"
   ]
  },
  {
   "cell_type": "markdown",
   "id": "0c6f3749",
   "metadata": {
    "heading_collapsed": true
   },
   "source": [
    "### famille"
   ]
  },
  {
   "cell_type": "markdown",
   "id": "dea589d3",
   "metadata": {
    "hidden": true
   },
   "source": [
    "More granular categorisation of products within their vertical. Highly variable text strings. Likely to drop."
   ]
  },
  {
   "cell_type": "code",
   "execution_count": 187,
   "id": "1063aa3d",
   "metadata": {
    "hidden": true,
    "scrolled": true
   },
   "outputs": [
    {
     "data": {
      "text/plain": [
       "77"
      ]
     },
     "execution_count": 187,
     "metadata": {},
     "output_type": "execute_result"
    }
   ],
   "source": [
    "data.famille.nunique()"
   ]
  },
  {
   "cell_type": "code",
   "execution_count": 153,
   "id": "26687eaf",
   "metadata": {
    "hidden": true
   },
   "outputs": [],
   "source": [
    "columns_to_drop.append(\"famille\")"
   ]
  },
  {
   "cell_type": "markdown",
   "id": "e78f55e5",
   "metadata": {
    "heading_collapsed": true
   },
   "source": [
    "### sous_famille"
   ]
  },
  {
   "cell_type": "markdown",
   "id": "c3d2add1",
   "metadata": {
    "hidden": true
   },
   "source": [
    "More granular categorisation of products within their family. Highly variable text strings. Likely to drop."
   ]
  },
  {
   "cell_type": "code",
   "execution_count": 186,
   "id": "42d31181",
   "metadata": {
    "hidden": true
   },
   "outputs": [
    {
     "data": {
      "text/plain": [
       "183"
      ]
     },
     "execution_count": 186,
     "metadata": {},
     "output_type": "execute_result"
    }
   ],
   "source": [
    "data.sous_famille.nunique()"
   ]
  },
  {
   "cell_type": "code",
   "execution_count": 155,
   "id": "fa918274",
   "metadata": {
    "hidden": true
   },
   "outputs": [],
   "source": [
    "columns_to_drop.append(\"sous_famille\")"
   ]
  },
  {
   "cell_type": "markdown",
   "id": "81a5bb6f",
   "metadata": {
    "heading_collapsed": true
   },
   "source": [
    "### macro_categorie"
   ]
  },
  {
   "cell_type": "markdown",
   "id": "f0b53fc0",
   "metadata": {
    "hidden": true
   },
   "source": [
    "\"Macro-category\" - a combination of gender and category. May be colinear with other features, or a potential candidate for engineering a day/night feature."
   ]
  },
  {
   "cell_type": "code",
   "execution_count": 184,
   "id": "b429c2d1",
   "metadata": {
    "hidden": true,
    "scrolled": true
   },
   "outputs": [
    {
     "data": {
      "text/plain": [
       "array(['Enfant Jour', 'Adulte Jour', 'Bébé Debout', 'Enfant Nuit',\n",
       "       'Bébé Nuit', 'Enfant Sous-Vêt', 'Bébé couché', 'Adulte T-Shirt',\n",
       "       'Bébé Sous-Vêt', 'Adulte Sous-Vêt', nan], dtype=object)"
      ]
     },
     "execution_count": 184,
     "metadata": {},
     "output_type": "execute_result"
    }
   ],
   "source": [
    "data.macro_categorie.unique()"
   ]
  },
  {
   "cell_type": "markdown",
   "id": "d7f65f29",
   "metadata": {
    "heading_collapsed": true
   },
   "source": [
    "### nom_ref"
   ]
  },
  {
   "cell_type": "markdown",
   "id": "1f7b0ac3",
   "metadata": {
    "hidden": true
   },
   "source": [
    "Product name or reference. Not very useful as a learning feature, but can be used for frontend."
   ]
  },
  {
   "cell_type": "code",
   "execution_count": 183,
   "id": "80f26959",
   "metadata": {
    "hidden": true
   },
   "outputs": [
    {
     "data": {
      "text/plain": [
       "5113"
      ]
     },
     "execution_count": 183,
     "metadata": {},
     "output_type": "execute_result"
    }
   ],
   "source": [
    "data.nom_ref.nunique()"
   ]
  },
  {
   "cell_type": "markdown",
   "id": "37b90490",
   "metadata": {
    "heading_collapsed": true
   },
   "source": [
    "### refcol"
   ]
  },
  {
   "cell_type": "markdown",
   "id": "fdf2bfad",
   "metadata": {
    "hidden": true
   },
   "source": [
    "Numeric reference to the product. Not likely to be significant. Add to drop list."
   ]
  },
  {
   "cell_type": "code",
   "execution_count": 159,
   "id": "6dda1757",
   "metadata": {
    "hidden": true
   },
   "outputs": [],
   "source": [
    "columns_to_drop.append(\"refcol\")"
   ]
  },
  {
   "cell_type": "markdown",
   "id": "02508a05",
   "metadata": {
    "heading_collapsed": true
   },
   "source": [
    "### lib_refcol"
   ]
  },
  {
   "cell_type": "markdown",
   "id": "503ca39a",
   "metadata": {
    "hidden": true
   },
   "source": [
    "Product text reference, typically a name and colour. Highly variable text field. Add to drop list."
   ]
  },
  {
   "cell_type": "code",
   "execution_count": 181,
   "id": "e94f6364",
   "metadata": {
    "hidden": true
   },
   "outputs": [
    {
     "data": {
      "text/plain": [
       "0        PARKA               CAPECO\n",
       "1        CIRE                MARS [\n",
       "2        COUPE VENT REVER    OGRE [\n",
       "3         COUPE-VENT REVER.   JAUNE\n",
       "4        Duffle coat         SMOKIN\n",
       "                    ...            \n",
       "13674          PYJACOURT     FLE/GR\n",
       "13675          ECHARPE       MAR/SM\n",
       "13676          COMBINAISON L MAR/TE\n",
       "13677          MARINIERE     MAR/SM\n",
       "13678                           NaN\n",
       "Name: lib_refcol, Length: 13679, dtype: object"
      ]
     },
     "execution_count": 181,
     "metadata": {},
     "output_type": "execute_result"
    }
   ],
   "source": [
    "data.lib_refcol"
   ]
  },
  {
   "cell_type": "code",
   "execution_count": 162,
   "id": "a66c32f8",
   "metadata": {
    "hidden": true
   },
   "outputs": [],
   "source": [
    "columns_to_drop.append(\"lib_refcol\")"
   ]
  },
  {
   "cell_type": "markdown",
   "id": "30d67f31",
   "metadata": {
    "heading_collapsed": true
   },
   "source": [
    "### coloris"
   ]
  },
  {
   "cell_type": "markdown",
   "id": "6bb80bf6",
   "metadata": {
    "hidden": true
   },
   "source": [
    "The product colour(s). May be useful as an encoded categorical feature, but there are a lot of values."
   ]
  },
  {
   "cell_type": "code",
   "execution_count": 180,
   "id": "512135ab",
   "metadata": {
    "hidden": true
   },
   "outputs": [
    {
     "data": {
      "text/plain": [
       "varian    2113\n",
       "SMOKIN    1137\n",
       "MAR/MU     817\n",
       "MARSHM     681\n",
       "ECUME      546\n",
       "SMO/MA     364\n",
       "MAR/SM     316\n",
       "TERKUI     226\n",
       "NOIR [     224\n",
       "JAUNE      215\n",
       "Name: coloris, dtype: int64"
      ]
     },
     "execution_count": 180,
     "metadata": {},
     "output_type": "execute_result"
    }
   ],
   "source": [
    "data.coloris.value_counts().head(10)"
   ]
  },
  {
   "cell_type": "markdown",
   "id": "03cbeb07",
   "metadata": {
    "heading_collapsed": true
   },
   "source": [
    "### matiere"
   ]
  },
  {
   "cell_type": "markdown",
   "id": "2fd76ae9",
   "metadata": {
    "hidden": true
   },
   "source": [
    "Product material. Similar to Coloris. May be usedful as a categorical feature, but would be difficult to encode so many unique values. "
   ]
  },
  {
   "cell_type": "code",
   "execution_count": 179,
   "id": "e3fc7c71",
   "metadata": {
    "hidden": true
   },
   "outputs": [
    {
     "data": {
      "text/plain": [
       "COTE 1/1           3215\n",
       "Côte 1/1           2515\n",
       "AUTRES              915\n",
       "JERSEY              852\n",
       "Jersey              772\n",
       "                   ... \n",
       "INTERL.GRAT.          1\n",
       "BOU.EP.GRATTEE        1\n",
       "Chambray              1\n",
       "INTERLOCK DFACE       1\n",
       "JERSEY GRAT.          1\n",
       "Name: matiere, Length: 93, dtype: int64"
      ]
     },
     "execution_count": 179,
     "metadata": {},
     "output_type": "execute_result"
    }
   ],
   "source": [
    "data.matiere.value_counts()"
   ]
  },
  {
   "cell_type": "markdown",
   "id": "3eb211bc",
   "metadata": {
    "heading_collapsed": true
   },
   "source": [
    "### saisonnalite"
   ]
  },
  {
   "cell_type": "markdown",
   "id": "d1ba812e",
   "metadata": {
    "hidden": true
   },
   "source": [
    "Seasonality categorical feature - may be useful and seems easy to encode."
   ]
  },
  {
   "cell_type": "code",
   "execution_count": 166,
   "id": "ce3e12e7",
   "metadata": {
    "hidden": true,
    "scrolled": true
   },
   "outputs": [
    {
     "data": {
      "text/plain": [
       "Reconduit    5234\n",
       "Eté          3555\n",
       "Hiver        3281\n",
       "Permanent    1603\n",
       "Name: saisonnalite, dtype: int64"
      ]
     },
     "execution_count": 166,
     "metadata": {},
     "output_type": "execute_result"
    }
   ],
   "source": [
    "data.saisonnalite.value_counts()"
   ]
  },
  {
   "cell_type": "markdown",
   "id": "83d8e71e",
   "metadata": {
    "heading_collapsed": true
   },
   "source": [
    "### pvc_france"
   ]
  },
  {
   "cell_type": "markdown",
   "id": "59f85de0",
   "metadata": {
    "hidden": true
   },
   "source": [
    "Product price. Needs to be cleaned and converted to numeric."
   ]
  },
  {
   "cell_type": "code",
   "execution_count": 168,
   "id": "9898f6cd",
   "metadata": {
    "hidden": true
   },
   "outputs": [
    {
     "data": {
      "text/plain": [
       "0          99\n",
       "1         139\n",
       "2         129\n",
       "3        69,9\n",
       "4         149\n",
       "         ... \n",
       "13674    22,9\n",
       "13675    39,9\n",
       "13676    39,9\n",
       "13677    79,9\n",
       "13678     NaN\n",
       "Name: pvc_france, Length: 13679, dtype: object"
      ]
     },
     "execution_count": 168,
     "metadata": {},
     "output_type": "execute_result"
    }
   ],
   "source": [
    "data.pvc_france"
   ]
  },
  {
   "cell_type": "code",
   "execution_count": 175,
   "id": "cbaf26f6",
   "metadata": {
    "hidden": true
   },
   "outputs": [],
   "source": [
    "data.pvc_france = data.pvc_france.map(replace_commas)"
   ]
  },
  {
   "cell_type": "code",
   "execution_count": 176,
   "id": "1fd1c34f",
   "metadata": {
    "hidden": true
   },
   "outputs": [],
   "source": [
    "data.pvc_france = data.pvc_france.map(make_dash_null)"
   ]
  },
  {
   "cell_type": "code",
   "execution_count": 178,
   "id": "bfc2e6aa",
   "metadata": {
    "hidden": true
   },
   "outputs": [],
   "source": [
    "data.pvc_france = pd.to_numeric(data.pvc_france, errors = \"coerce\")"
   ]
  },
  {
   "cell_type": "markdown",
   "id": "10881182",
   "metadata": {
    "heading_collapsed": true
   },
   "source": [
    "### rang"
   ]
  },
  {
   "cell_type": "markdown",
   "id": "9a61c15d",
   "metadata": {
    "hidden": true
   },
   "source": [
    "\"Rank\" - numeric feature. May be useful"
   ]
  },
  {
   "cell_type": "code",
   "execution_count": 205,
   "id": "b6467830",
   "metadata": {
    "hidden": true
   },
   "outputs": [
    {
     "data": {
      "text/plain": [
       "<AxesSubplot:ylabel='Frequency'>"
      ]
     },
     "execution_count": 205,
     "metadata": {},
     "output_type": "execute_result"
    },
    {
     "data": {
      "image/png": "[encoded data removed]",
      "text/plain": [
       "<Figure size 432x288 with 1 Axes>"
      ]
     },
     "metadata": {
      "needs_background": "light"
     },
     "output_type": "display_data"
    }
   ],
   "source": [
    "data.rang.plot(kind=\"hist\")"
   ]
  },
  {
   "cell_type": "markdown",
   "id": "e406cf8f",
   "metadata": {
    "heading_collapsed": true
   },
   "source": [
    "### picto"
   ]
  },
  {
   "cell_type": "markdown",
   "id": "2d9c073a",
   "metadata": {
    "hidden": true
   },
   "source": [
    "Photo of the product. All values are nan. To drop."
   ]
  },
  {
   "cell_type": "code",
   "execution_count": 208,
   "id": "1477b03a",
   "metadata": {
    "hidden": true
   },
   "outputs": [],
   "source": [
    "columns_to_drop.append(\"picto\")"
   ]
  },
  {
   "cell_type": "markdown",
   "id": "89f04906",
   "metadata": {},
   "source": [
    "### ca_net_ttcn"
   ]
  },
  {
   "cell_type": "code",
   "execution_count": 214,
   "id": "b59edc2b",
   "metadata": {},
   "outputs": [],
   "source": [
    "data.ca_net_ttcn = data.ca_net_ttcn.map(remove_euro)"
   ]
  },
  {
   "cell_type": "code",
   "execution_count": 217,
   "id": "c6c25121",
   "metadata": {},
   "outputs": [],
   "source": [
    "data.ca_net_ttcn = data.ca_net_ttcn.map(remove_comma)"
   ]
  },
  {
   "cell_type": "code",
   "execution_count": 219,
   "id": "93a6bd61",
   "metadata": {},
   "outputs": [],
   "source": [
    "data.ca_net_ttcn = pd.to_numeric(data.ca_net_ttcn)"
   ]
  },
  {
   "cell_type": "code",
   "execution_count": null,
   "id": "04e14273",
   "metadata": {},
   "outputs": [],
   "source": []
  },
  {
   "cell_type": "code",
   "execution_count": null,
   "id": "19fc7525",
   "metadata": {},
   "outputs": [],
   "source": []
  }
 ],
 "metadata": {
  "kernelspec": {
   "display_name": "Python 3 (ipykernel)",
   "language": "python",
   "name": "python3"
  },
  "language_info": {
   "codemirror_mode": {
    "name": "ipython",
    "version": 3
   },
   "file_extension": ".py",
   "mimetype": "text/x-python",
   "name": "python",
   "nbconvert_exporter": "python",
   "pygments_lexer": "ipython3",
   "version": "3.8.12"
  },
  "toc": {
   "base_numbering": 1,
   "nav_menu": {},
   "number_sections": true,
   "sideBar": true,
   "skip_h1_title": false,
   "title_cell": "Table of Contents",
   "title_sidebar": "Contents",
   "toc_cell": false,
   "toc_position": {},
   "toc_section_display": true,
   "toc_window_display": false
  }
 },
 "nbformat": 4,
 "nbformat_minor": 5
}
