{
 "cells": [
  {
   "cell_type": "code",
   "execution_count": 1,
   "id": "d48005cb",
   "metadata": {},
   "outputs": [],
   "source": [
    "import pandas as pd\n",
    "import numpy as np"
   ]
  },
  {
   "cell_type": "markdown",
   "id": "3eefdacc",
   "metadata": {},
   "source": [
    "# Initial data review and cleaning"
   ]
  },
  {
   "cell_type": "markdown",
   "id": "af2f9e84",
   "metadata": {},
   "source": [
    "## Import a CSV file"
   ]
  },
  {
   "cell_type": "code",
   "execution_count": 102,
   "id": "418b4049",
   "metadata": {
    "scrolled": true
   },
   "outputs": [
    {
     "data": {
      "text/html": [
       "<div>\n",
       "<style scoped>\n",
       "    .dataframe tbody tr th:only-of-type {\n",
       "        vertical-align: middle;\n",
       "    }\n",
       "\n",
       "    .dataframe tbody tr th {\n",
       "        vertical-align: top;\n",
       "    }\n",
       "\n",
       "    .dataframe thead th {\n",
       "        text-align: right;\n",
       "    }\n",
       "</style>\n",
       "<table border=\"1\" class=\"dataframe\">\n",
       "  <thead>\n",
       "    <tr style=\"text-align: right;\">\n",
       "      <th></th>\n",
       "      <th>Code OP Com.</th>\n",
       "      <th>Libellé OP Com.</th>\n",
       "      <th>Vitrine collection</th>\n",
       "      <th>Cible</th>\n",
       "      <th>Sous-cible</th>\n",
       "      <th>Sexe</th>\n",
       "      <th>Catégorie</th>\n",
       "      <th>Famille</th>\n",
       "      <th>Sous-Famille</th>\n",
       "      <th>Macro catégorie</th>\n",
       "      <th>...</th>\n",
       "      <th>Semaine 1ère vte\\nN</th>\n",
       "      <th>Défilement\\nN</th>\n",
       "      <th>Tx Ecoul\\nCumul\\nN</th>\n",
       "      <th>Engagement global\\nN</th>\n",
       "      <th>Tx Ecoul. sur Engt\\nCumul\\nN</th>\n",
       "      <th>Stk Dispo\\nEntrepot\\nN</th>\n",
       "      <th>Stk hors Dispo\\npour Réassort\\nN</th>\n",
       "      <th>Stk Dispo\\nRAL\\nCdeGen\\nN</th>\n",
       "      <th>Stk Dispo\\npour Réassort\\nN</th>\n",
       "      <th>%</th>\n",
       "    </tr>\n",
       "  </thead>\n",
       "  <tbody>\n",
       "    <tr>\n",
       "      <th>0</th>\n",
       "      <td>00A</td>\n",
       "      <td>AH2018 SELECTIF EARLY SEASON</td>\n",
       "      <td>18 S VET EARLY JRENF-RDC GRAPH</td>\n",
       "      <td>2-ENFANT</td>\n",
       "      <td>PETIT</td>\n",
       "      <td>MA</td>\n",
       "      <td>JOUR</td>\n",
       "      <td>FA GROSSES PIECES          VET</td>\n",
       "      <td>PARKAS                  VET</td>\n",
       "      <td>Enfant Jour</td>\n",
       "      <td>...</td>\n",
       "      <td>2018-S29</td>\n",
       "      <td>0.82</td>\n",
       "      <td>83 %</td>\n",
       "      <td>6,457</td>\n",
       "      <td>52 %</td>\n",
       "      <td>-1</td>\n",
       "      <td>-55</td>\n",
       "      <td>0</td>\n",
       "      <td>0</td>\n",
       "      <td>30%</td>\n",
       "    </tr>\n",
       "    <tr>\n",
       "      <th>1</th>\n",
       "      <td>00A</td>\n",
       "      <td>AH2018 SELECTIF EARLY SEASON</td>\n",
       "      <td>18 S VET EARLY AD_JOUR_MARIN D</td>\n",
       "      <td>3-ADULTE</td>\n",
       "      <td>FEMME</td>\n",
       "      <td>FE</td>\n",
       "      <td>JOUR</td>\n",
       "      <td>FA GROSSES PIECES          VET</td>\n",
       "      <td>CIRES, COUPE VENT       VET</td>\n",
       "      <td>Adulte Jour</td>\n",
       "      <td>...</td>\n",
       "      <td>2018-S29</td>\n",
       "      <td>0.44</td>\n",
       "      <td>49 %</td>\n",
       "      <td>2,878</td>\n",
       "      <td>57 %</td>\n",
       "      <td>0</td>\n",
       "      <td>0</td>\n",
       "      <td>0</td>\n",
       "      <td>0</td>\n",
       "      <td>30%</td>\n",
       "    </tr>\n",
       "    <tr>\n",
       "      <th>2</th>\n",
       "      <td>03A</td>\n",
       "      <td>AH2018 SELECTIF MID SEASON</td>\n",
       "      <td>18 S VET MID AD_ICONICOLOR 1</td>\n",
       "      <td>3-ADULTE</td>\n",
       "      <td>FEMME</td>\n",
       "      <td>FE</td>\n",
       "      <td>JOUR</td>\n",
       "      <td>FA GROSSES PIECES          VET</td>\n",
       "      <td>CIRES, COUPE VENT       VET</td>\n",
       "      <td>Adulte Jour</td>\n",
       "      <td>...</td>\n",
       "      <td>2018-S42</td>\n",
       "      <td>0.84</td>\n",
       "      <td>51 %</td>\n",
       "      <td>2,419</td>\n",
       "      <td>56 %</td>\n",
       "      <td>-3</td>\n",
       "      <td>-239</td>\n",
       "      <td>0</td>\n",
       "      <td>0</td>\n",
       "      <td>30%</td>\n",
       "    </tr>\n",
       "    <tr>\n",
       "      <th>3</th>\n",
       "      <td>03A</td>\n",
       "      <td>AH2018 SELECTIF MID SEASON</td>\n",
       "      <td>18 S VET MID JRBB-COLORAMAILLE</td>\n",
       "      <td>1-BEBE</td>\n",
       "      <td>BEBE Debout</td>\n",
       "      <td>MA</td>\n",
       "      <td>JOUR</td>\n",
       "      <td>FA GROSSES PIECES          VET</td>\n",
       "      <td>CIRES, COUPE VENT       VET</td>\n",
       "      <td>Bébé Debout</td>\n",
       "      <td>...</td>\n",
       "      <td>2018-S34</td>\n",
       "      <td>1.43</td>\n",
       "      <td>62 %</td>\n",
       "      <td>3,712</td>\n",
       "      <td>55 %</td>\n",
       "      <td>0</td>\n",
       "      <td>-25</td>\n",
       "      <td>0</td>\n",
       "      <td>0</td>\n",
       "      <td>30%</td>\n",
       "    </tr>\n",
       "    <tr>\n",
       "      <th>4</th>\n",
       "      <td>03A</td>\n",
       "      <td>AH2018 SELECTIF MID SEASON</td>\n",
       "      <td>18 S VET MID JRENF-RDC PREPPY</td>\n",
       "      <td>2-ENFANT</td>\n",
       "      <td>PETIT</td>\n",
       "      <td>FE</td>\n",
       "      <td>JOUR</td>\n",
       "      <td>FA GROSSES PIECES          VET</td>\n",
       "      <td>MANTEAUX                VET</td>\n",
       "      <td>Enfant Jour</td>\n",
       "      <td>...</td>\n",
       "      <td>2018-S36</td>\n",
       "      <td>0.29</td>\n",
       "      <td>22 %</td>\n",
       "      <td>5,728</td>\n",
       "      <td>16 %</td>\n",
       "      <td>0</td>\n",
       "      <td>-7</td>\n",
       "      <td>0</td>\n",
       "      <td>0</td>\n",
       "      <td>30%</td>\n",
       "    </tr>\n",
       "  </tbody>\n",
       "</table>\n",
       "<p>5 rows × 50 columns</p>\n",
       "</div>"
      ],
      "text/plain": [
       "  Code OP Com.               Libellé OP Com.              Vitrine collection  \\\n",
       "0          00A  AH2018 SELECTIF EARLY SEASON  18 S VET EARLY JRENF-RDC GRAPH   \n",
       "1          00A  AH2018 SELECTIF EARLY SEASON  18 S VET EARLY AD_JOUR_MARIN D   \n",
       "2          03A    AH2018 SELECTIF MID SEASON    18 S VET MID AD_ICONICOLOR 1   \n",
       "3          03A    AH2018 SELECTIF MID SEASON  18 S VET MID JRBB-COLORAMAILLE   \n",
       "4          03A    AH2018 SELECTIF MID SEASON   18 S VET MID JRENF-RDC PREPPY   \n",
       "\n",
       "      Cible   Sous-cible Sexe Catégorie                         Famille  \\\n",
       "0  2-ENFANT        PETIT   MA      JOUR  FA GROSSES PIECES          VET   \n",
       "1  3-ADULTE        FEMME   FE      JOUR  FA GROSSES PIECES          VET   \n",
       "2  3-ADULTE        FEMME   FE      JOUR  FA GROSSES PIECES          VET   \n",
       "3    1-BEBE  BEBE Debout   MA      JOUR  FA GROSSES PIECES          VET   \n",
       "4  2-ENFANT        PETIT   FE      JOUR  FA GROSSES PIECES          VET   \n",
       "\n",
       "                  Sous-Famille Macro catégorie  ... Semaine 1ère vte\\nN  \\\n",
       "0  PARKAS                  VET     Enfant Jour  ...            2018-S29   \n",
       "1  CIRES, COUPE VENT       VET     Adulte Jour  ...            2018-S29   \n",
       "2  CIRES, COUPE VENT       VET     Adulte Jour  ...            2018-S42   \n",
       "3  CIRES, COUPE VENT       VET     Bébé Debout  ...            2018-S34   \n",
       "4  MANTEAUX                VET     Enfant Jour  ...            2018-S36   \n",
       "\n",
       "   Défilement\\nN Tx Ecoul\\nCumul\\nN Engagement global\\nN  \\\n",
       "0           0.82               83 %                6,457   \n",
       "1           0.44               49 %                2,878   \n",
       "2           0.84               51 %                2,419   \n",
       "3           1.43               62 %                3,712   \n",
       "4           0.29               22 %                5,728   \n",
       "\n",
       "  Tx Ecoul. sur Engt\\nCumul\\nN Stk Dispo\\nEntrepot\\nN  \\\n",
       "0                         52 %                     -1   \n",
       "1                         57 %                      0   \n",
       "2                         56 %                     -3   \n",
       "3                         55 %                      0   \n",
       "4                         16 %                      0   \n",
       "\n",
       "  Stk hors Dispo\\npour Réassort\\nN  Stk Dispo\\nRAL\\nCdeGen\\nN  \\\n",
       "0                              -55                          0   \n",
       "1                                0                          0   \n",
       "2                             -239                          0   \n",
       "3                              -25                          0   \n",
       "4                               -7                          0   \n",
       "\n",
       "   Stk Dispo\\npour Réassort\\nN    %  \n",
       "0                            0  30%  \n",
       "1                            0  30%  \n",
       "2                            0  30%  \n",
       "3                            0  30%  \n",
       "4                            0  30%  \n",
       "\n",
       "[5 rows x 50 columns]"
      ]
     },
     "execution_count": 102,
     "metadata": {},
     "output_type": "execute_result"
    }
   ],
   "source": [
    "df = pd.read_csv(\"../raw_data/AW18 W3 POST.csv\")\n",
    "df.head()"
   ]
  },
  {
   "cell_type": "code",
   "execution_count": 104,
   "id": "0a19368b",
   "metadata": {},
   "outputs": [
    {
     "data": {
      "text/plain": [
       "Index(['Code OP Com.', 'Libellé OP Com.', 'Vitrine collection', 'Cible',\n",
       "       'Sous-cible', 'Sexe', 'Catégorie', 'Famille', 'Sous-Famille',\n",
       "       'Macro catégorie', 'Nom Ref', 'RefCol', 'Lib. RefCol', 'Coloris',\n",
       "       'Matière', 'Saisonnalité', 'PVC France', 'Rang', 'Picto',\n",
       "       'CA Net TTC\\nSem.\\nN', 'CA Net TTC\\nSem.-1\\nN', 'CA Net TTC\\nSem.-2\\nN',\n",
       "       'CA Net TTC\\nSem.-3\\nN', 'Qté vendues\\nSem.\\nN',\n",
       "       'Qté vendues\\nSem.-1\\nN', 'Qté vendues\\nSem.-2\\nN',\n",
       "       'Qté vendues\\nSem.-3\\nN', 'Taux de remise\\nSem.\\nN',\n",
       "       'Taux de remise\\nSem.-1\\nN', 'Stock PDV\\nSem.\\nN', 'Stk transit\\nN',\n",
       "       'Stock PDV + Transit', 'Couverture\\nSem.\\nN', 'Tx Ecoul\\nSem.\\nN',\n",
       "       'CA Net TTC\\nCumul\\nN', 'Taux de remise\\nCumul\\nN',\n",
       "       'Qté vendues\\nCumul\\nN', 'Nb RCT\\nen vente\\nN',\n",
       "       'Nb PDV\\navec RC en vente\\nN', 'Vte Moyennes\\nRCT/Point de vente\\nN',\n",
       "       'Semaine 1ère vte\\nN', 'Défilement\\nN', 'Tx Ecoul\\nCumul\\nN',\n",
       "       'Engagement global\\nN', 'Tx Ecoul. sur Engt\\nCumul\\nN',\n",
       "       'Stk Dispo\\nEntrepot\\nN', 'Stk hors Dispo\\npour Réassort\\nN',\n",
       "       'Stk Dispo\\nRAL\\nCdeGen\\nN', 'Stk Dispo\\npour Réassort\\nN', '%'],\n",
       "      dtype='object')"
      ]
     },
     "execution_count": 104,
     "metadata": {},
     "output_type": "execute_result"
    }
   ],
   "source": [
    "df.columns"
   ]
  },
  {
   "cell_type": "markdown",
   "id": "5b39b6c2",
   "metadata": {},
   "source": [
    "## clean up and replace column names"
   ]
  },
  {
   "cell_type": "code",
   "execution_count": 105,
   "id": "e28f39af",
   "metadata": {},
   "outputs": [],
   "source": [
    "columns = list(df.columns)"
   ]
  },
  {
   "cell_type": "code",
   "execution_count": 106,
   "id": "2bf9d5e3",
   "metadata": {},
   "outputs": [],
   "source": [
    "renamed_columns = []\n",
    "for c in columns:\n",
    "    c = c.replace(\"\\n\",\"\")\n",
    "    c = c.replace(\"+\",\"\")\n",
    "    c = c.replace(\".\",\"\")\n",
    "    c = c.replace(\"-\",\"_\")\n",
    "    c = c.replace(\" \",\"_\")\n",
    "    c = c.replace(\"é\",\"e\")\n",
    "    c = c.replace(\"è\",\"e\")\n",
    "    renamed_columns.append(c)"
   ]
  },
  {
   "cell_type": "code",
   "execution_count": 107,
   "id": "59d9f229",
   "metadata": {},
   "outputs": [],
   "source": [
    "columns_dict = {c:r for c,r in zip(columns,renamed_columns)}"
   ]
  },
  {
   "cell_type": "code",
   "execution_count": 108,
   "id": "20c724c1",
   "metadata": {
    "scrolled": true
   },
   "outputs": [],
   "source": [
    "df.rename(columns = columns_dict, inplace = True)"
   ]
  },
  {
   "cell_type": "markdown",
   "id": "ad09e1a9",
   "metadata": {},
   "source": [
    "## Initial Feature Review"
   ]
  },
  {
   "cell_type": "markdown",
   "id": "003d6487",
   "metadata": {
    "heading_collapsed": true
   },
   "source": [
    "### Code OP Com"
   ]
  },
  {
   "cell_type": "markdown",
   "id": "0f4613be",
   "metadata": {
    "hidden": true
   },
   "source": [
    "Product codes. Not valuable as an input feature. Drop from the dataframe."
   ]
  },
  {
   "cell_type": "code",
   "execution_count": 55,
   "id": "2d5cba90",
   "metadata": {
    "hidden": true
   },
   "outputs": [],
   "source": [
    "columns_to_drop = [\"Code_OP_Com\"]"
   ]
  },
  {
   "cell_type": "markdown",
   "id": "75d6cf4d",
   "metadata": {
    "heading_collapsed": true
   },
   "source": [
    "### Libelle_OP_Com"
   ]
  },
  {
   "cell_type": "markdown",
   "id": "1ddc98ae",
   "metadata": {
    "hidden": true
   },
   "source": [
    "Year and season of the product. Inconsistent naming, but may be possible to engineer seasonality with some text processing."
   ]
  },
  {
   "cell_type": "code",
   "execution_count": 63,
   "id": "aae888a5",
   "metadata": {
    "collapsed": true,
    "hidden": true
   },
   "outputs": [
    {
     "data": {
      "text/plain": [
       "array(['AH2018 SELECTIF EARLY SEASON', 'AH2018 SELECTIF MID SEASON',\n",
       "       'AH2018 SELECTIF HIGH SEASON', '18 SELECTIF VET ETE',\n",
       "       'SELECTIF PERM VET', 'SELECTIF PERM SVT',\n",
       "       'AH2018 SELECTIF PREVIEW', 'SELECTIF VET PERM SAIS HIVER',\n",
       "       '18 SELECTIF AISV ETE', '18 SELECTIF SVT ETE',\n",
       "       '17 SELECTIF VET ETE', '17 SELECTIF VET HIVER',\n",
       "       '18 SELECTIF AISV ETE SPECIFIQ', '18 SELECTIF ETE SPECIFIQUE',\n",
       "       '16 SELECTIF HIV SPECIFIQUE', '17 SELECTIF AISV HIVER',\n",
       "       '17 SELECTIF HIV  SPECIFIQUE', '17 SELECTIF AISV ETE',\n",
       "       '15 SELECTIF VET ETE', '17 SELECTIF SVT HIVER',\n",
       "       '13 SELECTIF VET ETE', 'SELECTIF PERMANENT ETE VET',\n",
       "       'PE2019 SELECTIF EARLY SEASON', 'PERM SELECTIF EARLY SEASON',\n",
       "       'PE2019 SELECTIF PREVIEW', 'SELECTIF SPECIFIQUE PERM',\n",
       "       'PE2019 SELECTIF MID SEASON', '17 SELECTIF SVT ETE',\n",
       "       '17 SELECTIF AISV HIV SPECIFI', '16 SELECTIF AISV HIVER',\n",
       "       '15 SELECTIF AISV ETE', '15 SELECTIF AISV HIVER',\n",
       "       '15 SELECTIF SVT HIVER', '17 SELECTIF ETE SPECIFIQUE',\n",
       "       '16 SELECTIF VET ETE', '16 SELECTIF AISV ETE',\n",
       "       'SELECTIF PERM AISV', 'SELECTIF PERMANENT ETE AISV',\n",
       "       '12 SELECTIF VET HIVER', '16 SELECTIF VET HIVER',\n",
       "       '16 SELECTIF SVT HIVER', '14 SELECTIF AISV HIVER',\n",
       "       '04 SELECTIF COLLECTION ETE', '16 SELECTIF AISV HIV SPECIF.',\n",
       "       '14 SELECTIF AISV ETE', 'PE2019 SELECTIF HIGH SEASON',\n",
       "       '15 SELECTIF VET HIVER', '16 SELECTIF SVT ETE',\n",
       "       'SELECTIF AISV PERM SAIS HIV', nan], dtype=object)"
      ]
     },
     "execution_count": 63,
     "metadata": {},
     "output_type": "execute_result"
    }
   ],
   "source": [
    "df.Libelle_OP_Com.unique()"
   ]
  },
  {
   "cell_type": "markdown",
   "id": "8abe7eb2",
   "metadata": {
    "heading_collapsed": true
   },
   "source": [
    "### Vitrine_collection"
   ]
  },
  {
   "cell_type": "markdown",
   "id": "89079d33",
   "metadata": {
    "hidden": true
   },
   "source": [
    "Window display details. Inconsistent strings of text. Best to drop"
   ]
  },
  {
   "cell_type": "code",
   "execution_count": 66,
   "id": "4a3143be",
   "metadata": {
    "collapsed": true,
    "hidden": true
   },
   "outputs": [
    {
     "data": {
      "text/plain": [
       "array(['18 S VET EARLY JRENF-RDC GRAPH', '18 S VET EARLY AD_JOUR_MARIN D',\n",
       "       '18 S VET MID AD_ICONICOLOR 1', '18 S VET MID JRBB-COLORAMAILLE',\n",
       "       '18 S VET MID JRENF-RDC PREPPY', '18 S VET HIGH JRENF-VERT SILEN',\n",
       "       '18 S VET MID JRENF-COLORAMAILL', '18 S VET MID JRENF-RDC RYTHME',\n",
       "       '18 S VET EARLY JRBB-COLLEGE DE', '18 S VET MID N-SV_NEW CO 3 ENF',\n",
       "       '18 S VET MID JRBB-RDC RYTHME', '18 S VET EARLY JRENF-COLLEGE D',\n",
       "       '18 S VET HIGH JRENF-FESTIVE SE', 'PT G P0',\n",
       "       '18 S VET HIGH JRBB-VERTS SILEN', '18 S VET EARLY AD_JOUR MARIN C',\n",
       "       'NUIT BEBE MIXTE PERMANENT', '18 S SVET MID N-SV_NEW CO 3 EN',\n",
       "       '18 S VET MID N-SV_NEW CO 2 ENF', 'BB COUCHE ICONIQUE PERM',\n",
       "       '18 S VET EARLY AD_INTIME LOUGE', '18 S VET HIGH CCS09PBUYING M2N',\n",
       "       '18 S SVET EARLY N-SV_COUP DE C', '18 S VET MID N-SV_RENTREE HERO',\n",
       "       '18 S SVET MID N-SV_RENTREE HER', '18 S VET HIGH JRBB-FESTIVE SEA',\n",
       "       '18 S VET HIGH N-SV_NOEL ENCHAN', 'BB F P1 BIS',\n",
       "       '18 S VET EARLY JRBB-RDC GRAPHI', '18 S VET MID JRENF-ICONICOLOR',\n",
       "       '18 S SVET EARLY N-SV_NEW CO 1', '18 S SVET MID N-SV_NEW CO 2 EN',\n",
       "       '18 S VET MID N-SV_NEW CO 3 BB', '18 S VET MID CCS16 REFAB BBC',\n",
       "       '18 S SVET EARLY CCS02 100A CUL', '18 S SVET MID N-SV_NEW CO 3 BB',\n",
       "       'NUIT PTE FILLE PERM', '18 S VET HIGH CCS01 GHIBLI', 'PTE F P1',\n",
       "       '18 S VET MID BBC_ICONIQUES', '18 S SVET HIGH N-SV_NOEL ENCHA',\n",
       "       '18 S VET MID CCS09 PBUYING M1N', '18 S VET EARLY BBC_TROUSSEAU P',\n",
       "       '18 S VET HIGH CCS06 PB HIVER C', '18 S DIV EARLY BBC_TROUSSEAU P',\n",
       "       'BB ICONIQUE PERM', '18 S VET  MARINIERE CREATIVE',\n",
       "       '18 S VET EARLY NUIT_NEW CO 1 E', '18 S VET HIGH CCS25 ACTUA',\n",
       "       '18 S VET HIGH CCS12 ROBE BBJ', '18 S VET EARLY AD_AISV MARIN D',\n",
       "       '18 S VET EARLY AD_AISV_MARIN D', '18 S SVET HIGH CCS01 GHIBLI',\n",
       "       '18 S VET HIGH AD_MAILLE ENCHAN', 'BB G P3',\n",
       "       '18 S VET EARLY BBC_GRIS 1', 'NUIT PT GARCON PERM SAIS',\n",
       "       '18 S VET EARLY BBC_MON TOUT 1E', '18 S VET MID CCS09 PBUYING M2N',\n",
       "       '18 S VET  BBC_ICONIK MODE', '18 S VET MID BBC_GRIS 2',\n",
       "       'PTE F AISV P1', 'F PTE FANTAISIE P1', 'BB G P1',\n",
       "       'NUIT BEBE GARCON PERM SAIS', '18 S VET EARLY NUIT_COUP DE CO',\n",
       "       '18 S VET MID N-SV_PERM RECONDS', '18 S VET MID N-SV_LOUNGEWEAR',\n",
       "       '18 S VET EARLY AD_MON ORIGINAL', 'PT G P1', 'NUIT PTE FILLE P2',\n",
       "       '18 S VET HIGH BBC_NOEL', 'JOUR FEMME P0',\n",
       "       '18 S SVET EARLY CCS03 POST BUY', '18 S VET HIGH D_AISV HIVER CHI',\n",
       "       '18 S VET HIGH AD_MON ORIGINAL', 'F PTE & GDE ICONIQUE PERM',\n",
       "       '18 S VET MID N-SV_NEW CO 2 BB', 'NUIT PT GARCON P2',\n",
       "       '18 S VET HIGH CCS19 BLOUSON TU', '18 S VET HIGH AD_JOUR HIVER CH',\n",
       "       'BB 1000 RAIES PERM', '18 S DIV HIGH BBC_NOEL',\n",
       "       '18 S VET EARLY CCS02 100A CULO', '18 S SVET MID CCS20 RECYCLING',\n",
       "       'F PTE&GDE 1000R PERM', '18 S VET HIGH AD_SPORTY COLOR',\n",
       "       'BB GARCON FANTAISIE P2', '18 S VET HIGH CCS09 PBUYING MO',\n",
       "       '18 S VET EARLY NUIT_TROUSSEAU', 'NUIT PT GARCON P1',\n",
       "       'NUIT BB MIXTE PERM', 'G PT FANTAISIE P2',\n",
       "       '18 S VET EARLY AD_MARIN DECALE', '18 S SVET EARLY AD_INTIME LOUG',\n",
       "       'G PT&GD 1000R PERM', '18 S VET MID JRBB-ICONICOLOR',\n",
       "       'NUIT BEBE FILLE P1', '18 S VET HIGH BBC_BLC BEIGE BR',\n",
       "       'F PTE & GDE 1000R PERM', 'BB COUCHE P1',\n",
       "       '18 S SVET MID N-SV_LE CHAUD', '18 S VET MID AD_SV CHAUD',\n",
       "       'BB FILLE FANTAISIE P2', '18 S SVET EARLY N-SV_TOUSSEAU',\n",
       "       'BB COUCHE TROUSSEAU P0', '18 S SVET MID N-SV_NEW CO 2 BB',\n",
       "       '18 S VET EARLY BBC_TROUSSEAU I', 'NUIT BEBE GARCON P3',\n",
       "       '18 S VET HIGH N-SV_PARIS 2', '18 S DIV MID CCS13 BOTTES PLUI',\n",
       "       'BB F P1', 'NUIT BEBE GARCON PO', 'NUIT PTE FILLE P1',\n",
       "       'PT G AISV P1', 'CCS04 DEBARDEUR 100A C. AISV', 'JOUR FEMME P1',\n",
       "       'PT CEREMONIE PERM', 'FEMME AISV TEES DEPACKAGES P1',\n",
       "       'FEMME AISV LIN UNI P1', '18 S VET HIGH CCS17 COFFRETS C',\n",
       "       '18 S VET EARLY CCS07 SPE ASIE', 'BB COUCHE BLANCHE PERMANENT',\n",
       "       '18 S VET EARLY N-SV_PERM RECON', 'BB AISV PO', 'BB COUCHE P2',\n",
       "       'G PT & GD ICONIQUE PERM', 'CCS01 100 ANS CULOTTE T1 AISV',\n",
       "       'BB AISV P1', 'BB F P3', 'NUIT BEBE FILLE P0',\n",
       "       '18 S VET EARLY N-SV_PARIS 1', 'OP COMP 100ANS CULOTTE UNITE',\n",
       "       'CCS01 100 ANS CULOTTE TEMPS 1', 'BB CEREMONIE PERMANENTE',\n",
       "       '18 S SVET HIGH N-SV_PARIS 2', 'BB AISV P2',\n",
       "       'G PT & GD 1000R PERM', 'NUIT GDE FILLE P1', 'BB ICONIQUE P1',\n",
       "       'CCS02 VALISE MAT.RAFFINEE BBC', '18 S DIV HIGH CCS25 ACTUA',\n",
       "       '18 S DIV EARLY BBC_TROUSSEAU I', '18 S VET HIGH CCS24 ROBE INCOU',\n",
       "       'NUIT GD GARCON P2', 'CCS37 CIRE PU IMPRIME',\n",
       "       '18 S DIV EARLY BBC_MON TOUT 1E', '18 S VET HIGH CCS07 SPE ASIE',\n",
       "       '18 S SVET MID CCS21 LOTS N-SV', 'BB COUCHE TROUSSEAU P1',\n",
       "       '18 S SVET EARLY N-SV_PERM RECO', '18 S VET EARLY AD_AISV MARIN C',\n",
       "       '18 S VET HIGH CCS05 PB COL BLO', '18 S VET MID AD_JOUR_HOMME',\n",
       "       '18 S VET EARLY N-SV_NEW CO 1 B', '18 S DIV HIGH CCS09PBUYING M2N',\n",
       "       'BB AISV P3', 'PTE F P2', 'CCS36 ACTUA INCOURANT',\n",
       "       'CCS38 LIN AJOURE AISV', '18 S VET MID CCS21 LOTS N-SV W',\n",
       "       '18 S SVET EARLY CCS07 SPE ASIE', '18 S VET HIGH CCS22 ETOILES',\n",
       "       'BB COUCHE BLANCHE  PERM', '18 S SVET EARLY N-SV_PARIS 1',\n",
       "       'NUIT GD GARCON P1', 'CCS06 CULOTTE HAUTE 100A AISV', 'BB F P2',\n",
       "       'BB G P2', '18 S VET HIGH CCS21 LOTS N-SV',\n",
       "       'FEMME AISV COTE LIGHT P1', '18 S VET  CCS10 TANNS',\n",
       "       'BB COUCHE P0', 'G PT&GD BLANC PERM', 'BB BLANC ORIGINEL PERM',\n",
       "       'F PTE&GDE BLC COCOTTE PERM', '18 S DIV MID CCS09 PBUYING M1N',\n",
       "       'CCS23 SPECIFIQUE PAYS', 'CCS05 ACCESSOIRES BB&ENF P4',\n",
       "       'PT&GD G BLANC PERM', 'NUIT PTE FILLE PERM SAIS', 'PT F P1',\n",
       "       'BB ICONIQUES P1', 'PTE F PERM', 'BB BLANC LOT PERM',\n",
       "       'PUERI 1000 RAIES PERM ETE', 'BB F PERM',\n",
       "       '19 S VET EARLY JRBB_MARIN 1', '19 S VET EARLY ADF_INTIME-SV',\n",
       "       '19 S VET EARLY ADF_ORIGINAL 1', '19 S VET EARLY ADF_CAPSULE JAU',\n",
       "       'PERM S VET EARLY ADF_PERMANENT', '19 S VET  JRENF_ICO MODES',\n",
       "       'PERM S VET EARLY PERM NUIT', 'PERM S SVET EARLY PERM SV',\n",
       "       'PERM S SVET EARLY ADF_PERMANEN', 'PERM S VET EARLY JRENF_PERM',\n",
       "       '19 S SVET EARLY ADF_INTIME-SV', '19 S VET EARLY ADF_MARIN BOUSC',\n",
       "       '19 S SVET  SV_NATURALISTE', '19 S VET  BBC_BBR',\n",
       "       '19 S DIV EARLY BBC_ICONIQUES', '19 S VET EARLY ADH_HOMME JOUR',\n",
       "       'CCS12 POST PRICING&BUYING PERM', '19 S VET MID ICONICOLOR 2',\n",
       "       '18 S DIV MID BBC_ICONIQUES', '19 S VET EARLY N_SPECIAL OCCAS',\n",
       "       'G PT & GD ICONIQUE P1', 'G PT LIGNE ICONIQUE P1',\n",
       "       'CCS08 ACCESSOIRES ENF JOUR V2', 'SOUS VETEMENT HOMME P0',\n",
       "       'F PTE & GDE ICONIQUE P1', 'FEMME AISV C EXTRA FINE P1',\n",
       "       'CCS26 AISV NEW COLORA.C1X1 V1', 'F PTE&GDE ICONIQUES P1',\n",
       "       'NUIT BEBE MIXTE P0', 'HOMME P1', 'FEMME AISV C 1/1 ICONIQUE P0',\n",
       "       'PERM S VET EARLY AD_MARIN DECA', 'F PTE & GDE ADO P2',\n",
       "       '18 S VET EARLY AD_ICONICOLOR E', 'BB G PO',\n",
       "       'FEMME AISV COTE1/1 ICONIQUE P0', '19 S VET  N_NATURALISTE',\n",
       "       '19 S VET MID JRENF_SPE OCCASIO', '19 S VET EARLY ADF_ICONICOLOR',\n",
       "       '18 S VET HIGH CCS23 DROP LOGO', 'BB G PERMANENT, PT G PERMANENT',\n",
       "       'CCS32 COTON SEA ISLAND AISV', '19 S SVET EARLY ADH_HOMME SV',\n",
       "       '19 S VET MID ADF_SPE OCCASION', '19 S VET EARLY BBC_ICONIQUES',\n",
       "       'BB F P4', 'BB G PERM', 'NUIT PT GARCON P0',\n",
       "       'BB COUCHE ENTREE DE SAISON P0', '19 S VET EARLY JRENF_MARIN 1',\n",
       "       'FEMME AISV C1X1 ICONIQUE P0', 'PTE&GDE F BLC COCOTTE PERM',\n",
       "       'PERM S VET EARLY JRBB_PERM', 'SOUS VETEMENT FEMME P0',\n",
       "       'BB G PERM SAIS', 'CCS16 CONCEPT PLAGE ENFANT', 'G PT ICONIQUE P1',\n",
       "       'CCS05 ACCESSOIRES BB&ENF P1', 'BB G P1 BIS',\n",
       "       'CCS11 OP 3POUR BB&ENF AISV V2', 'F PTE SPECIFIQUE P1',\n",
       "       'FEMME AISV C1/1 ICONIQUE P0', 'BB G ICONIQUE P0',\n",
       "       'FEMME AISV C1X1 ICONIQUE PERM', 'BB G P0',\n",
       "       'FEMME AISV C 1X1 ICONIQUE P0', 'HOMME P0',\n",
       "       'F PTE & GDE BLANC PERM', 'CCS02 CADEAUX BEBE COUCHE',\n",
       "       'FEMME AISV LOUNGEWEAR P1', 'G PT & GD BLANC PERM',\n",
       "       'BB F PERMANENT', 'CCS12 POST PRICING&BUYING',\n",
       "       'PT G AISV PERM ETE', 'JOUR FEMME ANNUELLE',\n",
       "       'CCS34 ICONICOLOR CIRES ADULTE', 'BB SEMAINIER P1', 'PT G P3',\n",
       "       'PT G P2', 'NUIT GDE FILLE P2', 'PERM S SVET EARLY N-SV_PERM RE',\n",
       "       'BO OFFRE NAISSANCE/PREMA P1', 'BB AISV P0', 'BB G P1, PT G P1',\n",
       "       'BB 1000R PERM', 'CCS10 ICONICOLOUR',\n",
       "       'FEMME AISV COT1/1 ICONIQUE P0', 'NUIT PT GARCON PERM',\n",
       "       'CCS21 AISV AJOUT COLORIS BEST', 'FEMME AISV TUBIQU EXTRA FIN P1',\n",
       "       'BB COUCHE P0 BIS', 'FEMME AISV C1X1VINTAGE P1',\n",
       "       'BB G PERM, PT G PERM', '19 S VET MID JRBB_SPE OCCASION',\n",
       "       'NUIT PT GARCON PERMANENT', '19 S VET EARLY JRENF_MARIN 2',\n",
       "       '19 S DIV EARLY BBC_TROUSSEAU P', 'BB COUCHE BLEUE P1',\n",
       "       '19 S VET HIGH ICONICOLOR 3', 'CCS21 SPE. JAP. NET. FLAG AISV',\n",
       "       '19 S SVET EARLY SV_SPECIFIQUES', 'CCS13 CASQUETTE ADULTE',\n",
       "       'PERM S VET EARLY JRENF_PERMANE', 'CCS26 AISV NEW COLORA.C1X1 V3',\n",
       "       'BB COUCHE P4', 'CCS18 BODIES NAIS POST BUYING',\n",
       "       'CCS26 AISV NEW COLORA.C1X1 V2', 'CCS13 JUPE MIDI JAPON',\n",
       "       'PT&GD G 1000R PERM', 'BB F PERM SAIS', 'PTE F PERMANENT',\n",
       "       '19 S VET EARLY CCS10 CARDIGAN', 'PT G P2BIS',\n",
       "       'CCS17 ENFANT AISV V0', 'NUIT BEBE GARCON P1',\n",
       "       'CCS19 AISV C1X1 STOCK T.SHIRT', '19 S VET MID ADF_ICONICOLOR 2',\n",
       "       '19 S VET MID JRBB_VIBRATION PT', 'CCS20 VESTE ENFANT JOUR PERM',\n",
       "       'PT G AISV PERM SAIS', 'BB F PERM, PTE F PERM', 'PT G PERM',\n",
       "       'CCS30 VALISE MATER BBC PERM', 'BB F PERM ETE', 'PTE F ANNUELLE',\n",
       "       'BB AISV PERM SAIS, PT G AISV PERM SAIS',\n",
       "       '18 S VET HIGH CCS11 CNY 1', '19 S VET MID BBC_SPECIAL OCCAS',\n",
       "       'PT G ICONIQUE P0', 'BB SPECIFIQUE P1',\n",
       "       '19 S VET MID JRENF_PREPPY TENN', nan], dtype=object)"
      ]
     },
     "execution_count": 66,
     "metadata": {},
     "output_type": "execute_result"
    }
   ],
   "source": [
    "df.Vitrine_collection.unique()"
   ]
  },
  {
   "cell_type": "code",
   "execution_count": 68,
   "id": "0b150461",
   "metadata": {
    "hidden": true
   },
   "outputs": [],
   "source": [
    "columns_to_drop.append(\"Vitrine_collection\")"
   ]
  },
  {
   "cell_type": "markdown",
   "id": "84716138",
   "metadata": {
    "heading_collapsed": true
   },
   "source": [
    "### Cible"
   ]
  },
  {
   "cell_type": "markdown",
   "id": "6bc5e50c",
   "metadata": {
    "hidden": true
   },
   "source": [
    "\"Target\" - categorical feature split between baby, child, and adult. Null values to impute or drop."
   ]
  },
  {
   "cell_type": "code",
   "execution_count": 77,
   "id": "a0fcc7b0",
   "metadata": {
    "hidden": true
   },
   "outputs": [
    {
     "data": {
      "text/plain": [
       "array(['2-ENFANT', '3-ADULTE', '1-BEBE', '-', nan], dtype=object)"
      ]
     },
     "execution_count": 77,
     "metadata": {},
     "output_type": "execute_result"
    }
   ],
   "source": [
    "df.Cible.unique()"
   ]
  },
  {
   "cell_type": "code",
   "execution_count": 78,
   "id": "49bc7a65",
   "metadata": {
    "hidden": true
   },
   "outputs": [
    {
     "data": {
      "text/plain": [
       "2-ENFANT    907\n",
       "1-BEBE      903\n",
       "3-ADULTE    568\n",
       "-             8\n",
       "Name: Cible, dtype: int64"
      ]
     },
     "execution_count": 78,
     "metadata": {},
     "output_type": "execute_result"
    }
   ],
   "source": [
    "df.Cible.value_counts()"
   ]
  },
  {
   "cell_type": "markdown",
   "id": "554be6e3",
   "metadata": {
    "heading_collapsed": true
   },
   "source": [
    "### Sous_cible"
   ]
  },
  {
   "cell_type": "markdown",
   "id": "6e6d14f6",
   "metadata": {
    "hidden": true
   },
   "source": [
    "\"Sub-target\" category split into more granular items. May be worth encoding, but might also be too noisy."
   ]
  },
  {
   "cell_type": "code",
   "execution_count": 81,
   "id": "bab4ae88",
   "metadata": {
    "hidden": true
   },
   "outputs": [
    {
     "data": {
      "text/plain": [
       "array(['PETIT', 'FEMME', 'BEBE Debout', 'BEBE Couché', 'GRAND', 'HOMME',\n",
       "       nan], dtype=object)"
      ]
     },
     "execution_count": 81,
     "metadata": {},
     "output_type": "execute_result"
    }
   ],
   "source": [
    "df.Sous_cible.unique()"
   ]
  },
  {
   "cell_type": "code",
   "execution_count": 82,
   "id": "9a026dd3",
   "metadata": {
    "hidden": true
   },
   "outputs": [
    {
     "data": {
      "text/plain": [
       "PETIT          814\n",
       "BEBE Debout    687\n",
       "FEMME          500\n",
       "BEBE Couché    216\n",
       "GRAND          101\n",
       "HOMME           68\n",
       "Name: Sous_cible, dtype: int64"
      ]
     },
     "execution_count": 82,
     "metadata": {},
     "output_type": "execute_result"
    }
   ],
   "source": [
    "df.Sous_cible.value_counts()"
   ]
  },
  {
   "cell_type": "markdown",
   "id": "12c1073f",
   "metadata": {
    "heading_collapsed": true
   },
   "source": [
    "### Sexe"
   ]
  },
  {
   "cell_type": "markdown",
   "id": "1fd96215",
   "metadata": {
    "hidden": true
   },
   "source": [
    "Gender of the product - male/female/unisex"
   ]
  },
  {
   "cell_type": "code",
   "execution_count": 83,
   "id": "98d6741f",
   "metadata": {
    "hidden": true
   },
   "outputs": [
    {
     "data": {
      "text/plain": [
       "array(['MA', 'FE', 'MI', nan], dtype=object)"
      ]
     },
     "execution_count": 83,
     "metadata": {},
     "output_type": "execute_result"
    }
   ],
   "source": [
    "df.Sexe.unique()"
   ]
  },
  {
   "cell_type": "code",
   "execution_count": 85,
   "id": "056a8954",
   "metadata": {
    "hidden": true
   },
   "outputs": [
    {
     "data": {
      "text/plain": [
       "FE    998\n",
       "MI    788\n",
       "MA    600\n",
       "Name: Sexe, dtype: int64"
      ]
     },
     "execution_count": 85,
     "metadata": {},
     "output_type": "execute_result"
    }
   ],
   "source": [
    "df.Sexe.value_counts()"
   ]
  },
  {
   "cell_type": "markdown",
   "id": "cc673416",
   "metadata": {
    "heading_collapsed": true
   },
   "source": [
    "### Categorie"
   ]
  },
  {
   "cell_type": "markdown",
   "id": "0889c673",
   "metadata": {
    "hidden": true
   },
   "source": [
    "Categorical feature - apparel vertical. Potentially some imbalanced categories."
   ]
  },
  {
   "cell_type": "code",
   "execution_count": 88,
   "id": "95a26001",
   "metadata": {
    "hidden": true
   },
   "outputs": [
    {
     "data": {
      "text/plain": [
       "array(['JOUR', 'NUIT', 'SS VET', 'AISV', 'PUERICULTURE', 'ACCESSOIRES',\n",
       "       'CHAUSSURES', nan], dtype=object)"
      ]
     },
     "execution_count": 88,
     "metadata": {},
     "output_type": "execute_result"
    }
   ],
   "source": [
    "df.Categorie.unique()"
   ]
  },
  {
   "cell_type": "code",
   "execution_count": 89,
   "id": "8625a17c",
   "metadata": {
    "hidden": true
   },
   "outputs": [
    {
     "data": {
      "text/plain": [
       "JOUR            803\n",
       "SS VET          471\n",
       "AISV            390\n",
       "NUIT            375\n",
       "ACCESSOIRES     306\n",
       "PUERICULTURE     38\n",
       "CHAUSSURES        3\n",
       "Name: Categorie, dtype: int64"
      ]
     },
     "execution_count": 89,
     "metadata": {},
     "output_type": "execute_result"
    }
   ],
   "source": [
    "df.Categorie.value_counts()"
   ]
  },
  {
   "cell_type": "markdown",
   "id": "0c6f3749",
   "metadata": {
    "heading_collapsed": true
   },
   "source": [
    "### Famille"
   ]
  },
  {
   "cell_type": "markdown",
   "id": "dea589d3",
   "metadata": {
    "hidden": true
   },
   "source": [
    "More granular categorisation of products within their vertical. Highly variable text strings. Likely to drop."
   ]
  },
  {
   "cell_type": "code",
   "execution_count": 92,
   "id": "1063aa3d",
   "metadata": {
    "hidden": true,
    "scrolled": true
   },
   "outputs": [
    {
     "data": {
      "text/plain": [
       "array(['FA GROSSES PIECES          VET', 'FA SALOPETTES              VET',\n",
       "       'FA PYJAMAS                 VET', 'FA PANTALONS JOUR          VET',\n",
       "       'FA ROBES                   VET', 'FA CACHCOEUR+CARD.+GILET J VET',\n",
       "       'FA CHEMISES DE NUIT ML', 'FA CHEMISES                VET',\n",
       "       'FA DORS BIEN               VET', 'FA CULOTTES                S/V',\n",
       "       'FA TEE SHIRTS JOUR         VET', 'FA SWEAT SHIRTS            VET',\n",
       "       'FA PULLS                   VET', 'FA COMBINAISONS            VET',\n",
       "       'FA PANTALONS NUIT          VET', 'FA DEBARDEURS              S/V',\n",
       "       'FA DORS BIEN PONT DOS', 'FA BODIES US',\n",
       "       'FA ROBES DE CHAMBRE        VET', 'FA DORS BIEN Y',\n",
       "       'FA BOXERS                  S/V', 'FA TEE SHIRTS              S/V',\n",
       "       'FA JUPES                   VET', 'FA POLOS                   VET',\n",
       "       'FA ARTICLE DE LITERIE      VET', 'FA BODIES                  S/V',\n",
       "       'FA CALECONS                S/V', 'FA COMBINAISONS NUIT       VET',\n",
       "       'SHORTIES', 'FA TEE SHIRTS', 'FA ENSEMBLES JOUR          VET',\n",
       "       'FA BLOUSE                  VET', 'FA CHAUSSANTS              VET',\n",
       "       'FA SOUS PULL               S/V', 'FA COMBICHAUDS             VET',\n",
       "       'FA NUISETTES', 'FA BODIES NAISSANCE',\n",
       "       'FA SLIPS                   S/V', 'FA CACHCOEUR+CARD.+GILET N VET',\n",
       "       'FA BRASSIERES              S/V', 'FA BODIES                  VET',\n",
       "       'FA CALECONS                VET', 'FA DORS BIEN SANS PIEDS',\n",
       "       'FA AUTRES ACCESSOIRES      VET', 'FA CHEMISES DE NUIT        VET',\n",
       "       'FA ARTICLE DE LITERIE NUIT VET', 'FA PUERICULTURE',\n",
       "       'FA ARTICLES DE BAIN        VET', 'FA BODIES JOUR',\n",
       "       'FA CHEMISES                S/V', 'FA LOT DORS BIEN',\n",
       "       'FA ENSEMBLES NUIT          VET', 'FA BOTTES',\n",
       "       'FA AUTRES ACCESSOIRES NUIT VET',\n",
       "       'FA POLO                             S/V',\n",
       "       'FA COIFFANTS               VET', 'FA MAILLOTS DE BAIN        VET',\n",
       "       'FA CACHCOEUR+CARD+GILET', 'FA SOUS PULLS',\n",
       "       'FA COLIS ET LOTS           VET', 'FA ENSEMBLES SOUS VET',\n",
       "       'FA BERMUDAS+SHORTS+CULOTT. VET', 'FA PANTALON                S/V',\n",
       "       'FA PUERICULTURE JOUR       VET', 'FA PANTALONS A PIEDS       S/V',\n",
       "       'FA BODIES SM', 'FA PYJACOURTS', 'FA CHEMISE DE NUIT', nan],\n",
       "      dtype=object)"
      ]
     },
     "execution_count": 92,
     "metadata": {},
     "output_type": "execute_result"
    }
   ],
   "source": [
    "df.Famille.unique()"
   ]
  },
  {
   "cell_type": "code",
   "execution_count": 93,
   "id": "26687eaf",
   "metadata": {
    "hidden": true
   },
   "outputs": [],
   "source": [
    "columns_to_drop.append(\"Famille\")"
   ]
  },
  {
   "cell_type": "markdown",
   "id": "e78f55e5",
   "metadata": {
    "heading_collapsed": true
   },
   "source": [
    "### Sous_Famille"
   ]
  },
  {
   "cell_type": "markdown",
   "id": "c3d2add1",
   "metadata": {
    "hidden": true
   },
   "source": [
    "More granular categorisation of products within their family. Highly variable text strings. Likely to drop."
   ]
  },
  {
   "cell_type": "code",
   "execution_count": 96,
   "id": "42d31181",
   "metadata": {
    "hidden": true
   },
   "outputs": [
    {
     "data": {
      "text/plain": [
       "array(['PARKAS                  VET', 'CIRES, COUPE VENT       VET',\n",
       "       'MANTEAUX                VET', 'SF DOUDOUNES',\n",
       "       'SALOPETTE LONGUE        VET', 'SF PYJALONG',\n",
       "       'SF PANTALONS MAILLE', 'ROBES ML                VET',\n",
       "       'BLOUSONS                VET', 'CARDIGANS JOUR          VET',\n",
       "       'ROBES MC                VET', 'SF CHEMISES DE NUIT LEGGING',\n",
       "       'CHEMISES ML             VET', 'SF PANTALONS C&T',\n",
       "       'DORS BIEN               VET', 'CULOTTES                S/V',\n",
       "       'VESTES LEGERES', 'TEE SHIRTS ML JOUR      VET',\n",
       "       'SWEAT SHIRTS            VET', 'PULL RDC,V,BATEAU       VET',\n",
       "       'COMBINAISON LONGUE      VET', 'PULL A COL              VET',\n",
       "       'SF CHEMISES A BRETELLES', 'SF DORS BIEN PONT DOS',\n",
       "       'SF MARINIERES              VET', 'SF BODIES US ML',\n",
       "       'PEIGNOIRS               VET', 'SF DORS BIEN Y',\n",
       "       'BOXERS                  S/V', 'TEE SHIRTS MC           S/V',\n",
       "       'JUPES                   VET', 'POLOS ML                VET',\n",
       "       'SF GIGOTEUSES', 'BODIES ML ENCOLURE AM   S/V',\n",
       "       'TEE SHIRTS ML           S/V', 'CALECONS LONGS          S/V',\n",
       "       'COMBINAISONSNUIT        VET', 'SF SHORTIES',\n",
       "       'PANTALONS JOUR          VET', 'ROBE DE CHAMBRE  ENF/GARCON',\n",
       "       'SF TEE SHIRTS ML', 'BODIES MC ENCOLURE AM   S/V',\n",
       "       'SF BODIES US MC', 'VESTES EPAISSES         VET',\n",
       "       'ENSEMBLE LONG           VET', 'SF CHEMISES DE NUIT ML',\n",
       "       'SF BLOUSES ML', 'CHAUSSETTES          DIVERS',\n",
       "       'SOUS PULL  ML           S/V', 'COMBICHAUDS             VET',\n",
       "       'SF ROBE                  S/V', 'SF ROBES DE CHAMBRE',\n",
       "       'COLLANTS             DIVERS', 'SF BODIES NAISSANCE ML',\n",
       "       'PYJACOURTS FILLE        VET', 'SLIPS FERMES            S/V',\n",
       "       'CARDIGANS NUIT          VET', 'BRASSIERES MC           S/V',\n",
       "       'DEBARDEURS              S/V', 'BODIES ML               VET',\n",
       "       'CALECONS LONGS          VET', 'SF DORS BIEN SANS PIEDS',\n",
       "       'SF AUTRES ACCESSOIRES    DIVERS', 'PYJACOURTS ENFANT/GARCONVET',\n",
       "       'SF CHEMISES DE NUIT MC', 'SF GIGOTEUSE NUIT         VET',\n",
       "       'TEE SHIRTS MC JOUR      VET', 'SF PETITS JOUETS',\n",
       "       'SF CARRES DE BAIN', 'SF BODIES ACOL ML',\n",
       "       'CHEMISES A BRETELLES    S/V', 'SF BODIES TS ML',\n",
       "       'BODIES ML A COL        SVET', 'SF PYJACOURT',\n",
       "       'PYJAMAS ENFANT/GARCON   VET', 'SF SOUTIEN GORGE TRIANGLE',\n",
       "       'BODY NAISSANCE NOUE ML  S/V', 'SF COMBIPILOTES',\n",
       "       'SF LOT DORS BIEN', 'COMBICOURT NUIT         VET',\n",
       "       'SF TEE SHIRTS MC', 'SF SAC                        DIVERS',\n",
       "       'SF BODIES ROBES ML', 'SF SOUTIEN GORGE PADDE',\n",
       "       'SF ENSEMBLE LONG NUIT VET', 'SF BOTTES DE PLUIE',\n",
       "       'SF AUTRE ACCESSOIRE NUIT  VET', 'PYJAMAS FILLES          VET',\n",
       "       'SF POLO MC                           S/V',\n",
       "       'MOUFLES ,GANTS       DIVERS', 'ROBES SM                VET',\n",
       "       'BODIES MC                    S/V', 'ECHARPE,BANDANA      DIVERS',\n",
       "       'BODIES SM               S/V', 'CAGOULE, BONNET         VET',\n",
       "       'BONNET NAISSANCE        VET', 'GILETS JOUR             VET',\n",
       "       'BODY NAISSANCE          VET', 'BODIES MC A COL         S/V',\n",
       "       'MAILLOTS DE BAIN FILLE  VET', 'CHAPEAU CASQUETTE BOB   VET',\n",
       "       'BODIES TS ML                     S/V',\n",
       "       'BANDEAU - CHOUCHOU   DIVERS', 'CARDIGAN                S/V',\n",
       "       'SF SOUS PULLS ML', 'LOT NUIT                VET',\n",
       "       'SALOPETTES COURTES      VET', 'BODIES MC               VET',\n",
       "       'SF COUVERTURES PLAIDS', 'SF ENSEMBLE COURT',\n",
       "       'BODY A BRETELLES        S/V', 'SF BAVOIRS',\n",
       "       'POLOS MC                VET', 'POCHETTE',\n",
       "       'BERMUDAS                VET', 'ARTICLES DE LITERIE  DIVERS',\n",
       "       'PANTALON                S/V', 'SF DRAPS',\n",
       "       'CHAUSSONS               VET', 'COMBINAISON COURTE      VET',\n",
       "       'SF POLO ML                 S/V', \"NIDS D'ANGE JOUR        VET\",\n",
       "       'LOT SVETEMENT ET VET.NUIT', 'SF CEINTURE             DIVERS',\n",
       "       \"SF NIDS D'ANGE\", 'BRASSIERES SM           S/V',\n",
       "       'SF LOT ACCESSOIRES', 'PANTALONS A PIEDS       S/V',\n",
       "       'ROBES DE CHAMBRE FILLE  VET', 'SF BODIES SM',\n",
       "       'SF MAILLOTS DE BAIN', 'SF PYJACOURTS',\n",
       "       'PETIT JOUET             VET', 'MAILLOT DE BAIN GARCON  VET',\n",
       "       'PANTALONS NUIT          VET', 'COMBINAISONSPILOTES     VET',\n",
       "       'SHORTS                  VET', 'SF ROBE A BRETELLES       S/V',\n",
       "       'SF SOUTIEN - GORGE', 'CHEMISES DE NUIT        VET',\n",
       "       'SAC A DOS            DIVERS', 'BODY NAISSANCE NOUE MC  S/V',\n",
       "       'BRASSIERES NUIT         VET', 'SF BODIES NAISSANCE MC',\n",
       "       'BODY NAISSANCE NOUE SM  S/V', 'CALECONS COURTS         S/V',\n",
       "       'CULOTTES BABY           S/V', nan], dtype=object)"
      ]
     },
     "execution_count": 96,
     "metadata": {},
     "output_type": "execute_result"
    }
   ],
   "source": [
    "df.Sous_Famille.unique()"
   ]
  },
  {
   "cell_type": "code",
   "execution_count": 97,
   "id": "fa918274",
   "metadata": {
    "hidden": true
   },
   "outputs": [],
   "source": [
    "columns_to_drop.append(\"Sous_Famille\")"
   ]
  },
  {
   "cell_type": "markdown",
   "id": "81a5bb6f",
   "metadata": {},
   "source": [
    "### Macro_categorie"
   ]
  },
  {
   "cell_type": "markdown",
   "id": "f0b53fc0",
   "metadata": {},
   "source": [
    "\"Macro-category\" - a combination of gender and category. May be colinear with other features, or a potential candidate for engineering a day/night feature."
   ]
  },
  {
   "cell_type": "code",
   "execution_count": 100,
   "id": "b429c2d1",
   "metadata": {
    "scrolled": true
   },
   "outputs": [
    {
     "data": {
      "text/plain": [
       "array(['Enfant Jour', 'Adulte Jour', 'Bébé Debout', 'Enfant Nuit',\n",
       "       'Bébé Nuit', 'Enfant Sous-Vêt', 'Bébé couché', 'Adulte T-Shirt',\n",
       "       'Bébé Sous-Vêt', 'Adulte Sous-Vêt', nan], dtype=object)"
      ]
     },
     "execution_count": 100,
     "metadata": {},
     "output_type": "execute_result"
    }
   ],
   "source": [
    "df.Macro_categorie.unique()"
   ]
  },
  {
   "cell_type": "code",
   "execution_count": null,
   "id": "1ce6ca5c",
   "metadata": {},
   "outputs": [],
   "source": []
  }
 ],
 "metadata": {
  "kernelspec": {
   "display_name": "Python 3 (ipykernel)",
   "language": "python",
   "name": "python3"
  },
  "language_info": {
   "codemirror_mode": {
    "name": "ipython",
    "version": 3
   },
   "file_extension": ".py",
   "mimetype": "text/x-python",
   "name": "python",
   "nbconvert_exporter": "python",
   "pygments_lexer": "ipython3",
   "version": "3.8.12"
  },
  "toc": {
   "base_numbering": 1,
   "nav_menu": {},
   "number_sections": true,
   "sideBar": true,
   "skip_h1_title": false,
   "title_cell": "Table of Contents",
   "title_sidebar": "Contents",
   "toc_cell": false,
   "toc_position": {},
   "toc_section_display": true,
   "toc_window_display": false
  }
 },
 "nbformat": 4,
 "nbformat_minor": 5
}
