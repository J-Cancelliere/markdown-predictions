{
 "cells": [
  {
   "cell_type": "code",
   "execution_count": 1,
   "id": "d48005cb",
   "metadata": {},
   "outputs": [],
   "source": [
    "import pandas as pd\n",
    "import numpy as np\n",
    "import matplotlib.pyplot as plt\n",
    "import seaborn as sns"
   ]
  },
  {
   "cell_type": "markdown",
   "id": "3eefdacc",
   "metadata": {},
   "source": [
    "# Initial data review and cleaning"
   ]
  },
  {
   "cell_type": "markdown",
   "id": "f5e9a1aa",
   "metadata": {},
   "source": [
    "## Import the CSVs and combine the dataframes"
   ]
  },
  {
   "cell_type": "code",
   "execution_count": 2,
   "id": "70b73d28",
   "metadata": {},
   "outputs": [],
   "source": [
    "csv_files = [\"AW18 W3 POST.csv\",\n",
    "             \"AW19 W3 POST.csv\",\n",
    "             \"AW20 W2 POST.csv\",\n",
    "             \"SS18 W27 POST.csv\",\n",
    "             \"SS19 W27 POST.csv\",\n",
    "             \"SS21 W27 POST.csv\"]"
   ]
  },
  {
   "cell_type": "code",
   "execution_count": 3,
   "id": "9738a1be",
   "metadata": {
    "scrolled": true
   },
   "outputs": [],
   "source": [
    "dfs = []\n",
    "for csv in csv_files:\n",
    "    # Read DF from CSV file\n",
    "    add_df = pd.read_csv(f\"../raw_data/{csv}\")\n",
    "    \n",
    "    # Clean up and replace column names for each DF\n",
    "    renamed_columns = []\n",
    "    columns = list(add_df.columns)\n",
    "    for c in columns:\n",
    "        c = c.lower()\n",
    "        c = c.replace(\"sem\",\"\")\n",
    "        c = c.replace(\"\\n\",\"\")\n",
    "        c = c.replace(\"\\r\",\"\")\n",
    "        c = c.replace(\"+\",\"\")\n",
    "        c = c.replace(\".\",\"\")\n",
    "        c = c.replace(\"-\",\"_\")\n",
    "        c = c.replace(\" \",\"_\")\n",
    "        c = c.replace(\"é\",\"e\")\n",
    "        c = c.replace(\"è\",\"e\")\n",
    "        renamed_columns.append(c)\n",
    "    columns_dict = {c:r for c,r in zip(columns,renamed_columns)}\n",
    "    add_df.rename(columns=columns_dict, inplace=True)\n",
    "    \n",
    "    # Drop the last row of the DF\n",
    "    add_df.drop(add_df.tail(1).index, inplace = True)\n",
    " \n",
    "    # Drop columns that are duplicated\n",
    "    add_df.drop(columns=[\"tx_ecouln\",\"defilementn\"], errors = \"ignore\", inplace = True)\n",
    "    \n",
    "    # Add to list of DFs to concatenate\n",
    "    dfs.append(add_df)"
   ]
  },
  {
   "cell_type": "code",
   "execution_count": 4,
   "id": "00433892",
   "metadata": {},
   "outputs": [],
   "source": [
    "data = pd.concat(dfs)"
   ]
  },
  {
   "cell_type": "code",
   "execution_count": 5,
   "id": "d8c71867",
   "metadata": {},
   "outputs": [],
   "source": [
    "data.reset_index(inplace = True)"
   ]
  },
  {
   "cell_type": "markdown",
   "id": "2151ef55",
   "metadata": {
    "heading_collapsed": true
   },
   "source": [
    "## Feature cleaning functions"
   ]
  },
  {
   "cell_type": "markdown",
   "id": "a821ecf3",
   "metadata": {
    "hidden": true
   },
   "source": [
    "### Fix comma decimal values"
   ]
  },
  {
   "cell_type": "markdown",
   "id": "73a9f078",
   "metadata": {
    "hidden": true
   },
   "source": [
    "There are some features that use French style decimalisation. These commas need to be changed to full stops in order to convert columns to numeric dtype."
   ]
  },
  {
   "cell_type": "code",
   "execution_count": 6,
   "id": "136ad9b4",
   "metadata": {
    "hidden": true
   },
   "outputs": [],
   "source": [
    "def replace_commas(text):\n",
    "    text = str(text).replace(\",\",\".\")\n",
    "    return text"
   ]
  },
  {
   "cell_type": "markdown",
   "id": "2b294563",
   "metadata": {
    "hidden": true
   },
   "source": [
    "### Remove commas"
   ]
  },
  {
   "cell_type": "markdown",
   "id": "7b856c7f",
   "metadata": {
    "hidden": true
   },
   "source": [
    "Several other numeric features contain commas as a place separator, also preventing conversion to numeric dtype. This function will remove the commas and strip any whitespace."
   ]
  },
  {
   "cell_type": "code",
   "execution_count": 7,
   "id": "135a6ebb",
   "metadata": {
    "hidden": true
   },
   "outputs": [],
   "source": [
    "def remove_comma(text):\n",
    "    text = str(text).replace(\",\",\"\").strip()\n",
    "    return text"
   ]
  },
  {
   "cell_type": "markdown",
   "id": "f0996701",
   "metadata": {
    "hidden": true
   },
   "source": [
    "### Change dashes to np.nan"
   ]
  },
  {
   "cell_type": "markdown",
   "id": "326c69ee",
   "metadata": {
    "hidden": true
   },
   "source": [
    "The dataset contains quite a few rows were a dash (\"-\") has been added instead of a null value. Some of these may be imputable, but at this stage it these will be converted to np.nan to allow dtype conversion. They can be dropped or imputed during the next stages of analysis."
   ]
  },
  {
   "cell_type": "code",
   "execution_count": 8,
   "id": "bf2f6ebd",
   "metadata": {
    "hidden": true
   },
   "outputs": [],
   "source": [
    "def make_dash_null(text):\n",
    "    return np.nan if text == \"-\" else text"
   ]
  },
  {
   "cell_type": "markdown",
   "id": "af673be4",
   "metadata": {
    "hidden": true
   },
   "source": [
    "### Remove currency symbols"
   ]
  },
  {
   "cell_type": "markdown",
   "id": "73698005",
   "metadata": {
    "hidden": true
   },
   "source": [
    "Several numeric features contain the symbol for EUR (€), preventing conversion to numeric dtype. This function will remove the symbol and strip any whitespace."
   ]
  },
  {
   "cell_type": "code",
   "execution_count": 9,
   "id": "146078d0",
   "metadata": {
    "hidden": true
   },
   "outputs": [],
   "source": [
    "def remove_euro(text):\n",
    "    text = str(text).replace(\"€\",\"\").strip()\n",
    "    return text"
   ]
  },
  {
   "cell_type": "markdown",
   "id": "7941e3d1",
   "metadata": {
    "hidden": true
   },
   "source": [
    "### Remove percentage symbol"
   ]
  },
  {
   "cell_type": "markdown",
   "id": "a3e9ca13",
   "metadata": {
    "hidden": true
   },
   "source": [
    "Some percentage values have a percent symbol hard coded in as a string, preventing conversion to numeric. This function will remove the symbol and strip any whitespace."
   ]
  },
  {
   "cell_type": "code",
   "execution_count": 10,
   "id": "a85c3586",
   "metadata": {
    "hidden": true
   },
   "outputs": [],
   "source": [
    "def remove_percent(text):\n",
    "    text = str(text).replace(\"%\",\"\").strip()\n",
    "    return text"
   ]
  },
  {
   "cell_type": "markdown",
   "id": "ad09e1a9",
   "metadata": {
    "heading_collapsed": true
   },
   "source": [
    "## Initial Feature Review"
   ]
  },
  {
   "cell_type": "markdown",
   "id": "003d6487",
   "metadata": {
    "heading_collapsed": true,
    "hidden": true
   },
   "source": [
    "### code_op_com"
   ]
  },
  {
   "cell_type": "markdown",
   "id": "0f4613be",
   "metadata": {
    "hidden": true
   },
   "source": [
    "Product codes. Not valuable as an input feature. Drop from the dataframe."
   ]
  },
  {
   "cell_type": "code",
   "execution_count": 11,
   "id": "2d5cba90",
   "metadata": {
    "hidden": true
   },
   "outputs": [],
   "source": [
    "columns_to_drop = [\"code_op_com\"]"
   ]
  },
  {
   "cell_type": "markdown",
   "id": "75d6cf4d",
   "metadata": {
    "heading_collapsed": true,
    "hidden": true
   },
   "source": [
    "### libelle_op_com"
   ]
  },
  {
   "cell_type": "markdown",
   "id": "1ddc98ae",
   "metadata": {
    "hidden": true
   },
   "source": [
    "Year and season of the product. Inconsistent naming, so it's likely best to drop."
   ]
  },
  {
   "cell_type": "code",
   "execution_count": 12,
   "id": "aae888a5",
   "metadata": {
    "hidden": true
   },
   "outputs": [
    {
     "data": {
      "text/plain": [
       "78"
      ]
     },
     "execution_count": 12,
     "metadata": {},
     "output_type": "execute_result"
    }
   ],
   "source": [
    "data.libelle_op_com.nunique()"
   ]
  },
  {
   "cell_type": "code",
   "execution_count": 13,
   "id": "502d5671",
   "metadata": {
    "hidden": true
   },
   "outputs": [],
   "source": [
    "columns_to_drop.append(\"libelle_op_com\")"
   ]
  },
  {
   "cell_type": "markdown",
   "id": "8abe7eb2",
   "metadata": {
    "heading_collapsed": true,
    "hidden": true
   },
   "source": [
    "### vitrine_collection"
   ]
  },
  {
   "cell_type": "markdown",
   "id": "89079d33",
   "metadata": {
    "hidden": true
   },
   "source": [
    "Window display details. Inconsistent strings of text. Best to drop"
   ]
  },
  {
   "cell_type": "code",
   "execution_count": 14,
   "id": "4a3143be",
   "metadata": {
    "hidden": true
   },
   "outputs": [
    {
     "data": {
      "text/plain": [
       "950"
      ]
     },
     "execution_count": 14,
     "metadata": {},
     "output_type": "execute_result"
    }
   ],
   "source": [
    "data.vitrine_collection.nunique()"
   ]
  },
  {
   "cell_type": "code",
   "execution_count": 15,
   "id": "0b150461",
   "metadata": {
    "hidden": true
   },
   "outputs": [],
   "source": [
    "columns_to_drop.append(\"vitrine_collection\")"
   ]
  },
  {
   "cell_type": "markdown",
   "id": "84716138",
   "metadata": {
    "heading_collapsed": true,
    "hidden": true
   },
   "source": [
    "### cible"
   ]
  },
  {
   "cell_type": "markdown",
   "id": "6bc5e50c",
   "metadata": {
    "hidden": true
   },
   "source": [
    "\"Target\" - categorical feature split between baby, child, and adult. Null values to impute or drop."
   ]
  },
  {
   "cell_type": "code",
   "execution_count": 16,
   "id": "a0fcc7b0",
   "metadata": {
    "hidden": true
   },
   "outputs": [
    {
     "data": {
      "text/plain": [
       "array(['2-ENFANT', '3-ADULTE', '1-BEBE', '-'], dtype=object)"
      ]
     },
     "execution_count": 16,
     "metadata": {},
     "output_type": "execute_result"
    }
   ],
   "source": [
    "data.cible.unique()"
   ]
  },
  {
   "cell_type": "code",
   "execution_count": 17,
   "id": "49bc7a65",
   "metadata": {
    "hidden": true
   },
   "outputs": [
    {
     "data": {
      "text/plain": [
       "1-BEBE      5555\n",
       "2-ENFANT    5194\n",
       "3-ADULTE    2898\n",
       "-             26\n",
       "Name: cible, dtype: int64"
      ]
     },
     "execution_count": 17,
     "metadata": {},
     "output_type": "execute_result"
    }
   ],
   "source": [
    "data.cible.value_counts()"
   ]
  },
  {
   "cell_type": "markdown",
   "id": "554be6e3",
   "metadata": {
    "heading_collapsed": true,
    "hidden": true
   },
   "source": [
    "### sous_cible"
   ]
  },
  {
   "cell_type": "markdown",
   "id": "6e6d14f6",
   "metadata": {
    "hidden": true
   },
   "source": [
    "\"Sub-target\" category split into more granular items. May be worth encoding, but might also be too noisy."
   ]
  },
  {
   "cell_type": "code",
   "execution_count": 18,
   "id": "bab4ae88",
   "metadata": {
    "hidden": true
   },
   "outputs": [
    {
     "data": {
      "text/plain": [
       "array(['PETIT', 'FEMME', 'BEBE Debout', 'BEBE Couché', 'GRAND', 'HOMME'],\n",
       "      dtype=object)"
      ]
     },
     "execution_count": 18,
     "metadata": {},
     "output_type": "execute_result"
    }
   ],
   "source": [
    "data.sous_cible.unique()"
   ]
  },
  {
   "cell_type": "code",
   "execution_count": 19,
   "id": "9a026dd3",
   "metadata": {
    "hidden": true
   },
   "outputs": [
    {
     "data": {
      "text/plain": [
       "PETIT          4757\n",
       "BEBE Debout    4109\n",
       "FEMME          2608\n",
       "BEBE Couché    1446\n",
       "GRAND           463\n",
       "HOMME           290\n",
       "Name: sous_cible, dtype: int64"
      ]
     },
     "execution_count": 19,
     "metadata": {},
     "output_type": "execute_result"
    }
   ],
   "source": [
    "data.sous_cible.value_counts()"
   ]
  },
  {
   "cell_type": "markdown",
   "id": "12c1073f",
   "metadata": {
    "heading_collapsed": true,
    "hidden": true
   },
   "source": [
    "### sexe"
   ]
  },
  {
   "cell_type": "markdown",
   "id": "1fd96215",
   "metadata": {
    "hidden": true
   },
   "source": [
    "Gender of the product - male/female/unisex. Relatively balanced categorical feature"
   ]
  },
  {
   "cell_type": "code",
   "execution_count": 20,
   "id": "98d6741f",
   "metadata": {
    "hidden": true
   },
   "outputs": [
    {
     "data": {
      "text/plain": [
       "array(['MA', 'FE', 'MI'], dtype=object)"
      ]
     },
     "execution_count": 20,
     "metadata": {},
     "output_type": "execute_result"
    }
   ],
   "source": [
    "data.sexe.unique()"
   ]
  },
  {
   "cell_type": "code",
   "execution_count": 21,
   "id": "056a8954",
   "metadata": {
    "hidden": true
   },
   "outputs": [
    {
     "data": {
      "text/plain": [
       "FE    5604\n",
       "MI    4769\n",
       "MA    3300\n",
       "Name: sexe, dtype: int64"
      ]
     },
     "execution_count": 21,
     "metadata": {},
     "output_type": "execute_result"
    }
   ],
   "source": [
    "data.sexe.value_counts()"
   ]
  },
  {
   "cell_type": "markdown",
   "id": "cc673416",
   "metadata": {
    "heading_collapsed": true,
    "hidden": true
   },
   "source": [
    "### categorie"
   ]
  },
  {
   "cell_type": "markdown",
   "id": "0889c673",
   "metadata": {
    "hidden": true
   },
   "source": [
    "Categorical feature - apparel vertical. Potentially some imbalanced categories."
   ]
  },
  {
   "cell_type": "code",
   "execution_count": 22,
   "id": "95a26001",
   "metadata": {
    "hidden": true
   },
   "outputs": [
    {
     "data": {
      "text/plain": [
       "array(['JOUR', 'NUIT', 'SS VET', 'AISV', 'PUERICULTURE', 'ACCESSOIRES',\n",
       "       'CHAUSSURES'], dtype=object)"
      ]
     },
     "execution_count": 22,
     "metadata": {},
     "output_type": "execute_result"
    }
   ],
   "source": [
    "data.categorie.unique()"
   ]
  },
  {
   "cell_type": "code",
   "execution_count": 23,
   "id": "8625a17c",
   "metadata": {
    "hidden": true
   },
   "outputs": [
    {
     "data": {
      "text/plain": [
       "JOUR            4957\n",
       "SS VET          2404\n",
       "AISV            2149\n",
       "NUIT            2028\n",
       "ACCESSOIRES     1840\n",
       "PUERICULTURE     265\n",
       "CHAUSSURES        30\n",
       "Name: categorie, dtype: int64"
      ]
     },
     "execution_count": 23,
     "metadata": {},
     "output_type": "execute_result"
    }
   ],
   "source": [
    "data.categorie.value_counts()"
   ]
  },
  {
   "cell_type": "markdown",
   "id": "0c6f3749",
   "metadata": {
    "heading_collapsed": true,
    "hidden": true
   },
   "source": [
    "### famille"
   ]
  },
  {
   "cell_type": "markdown",
   "id": "dea589d3",
   "metadata": {
    "hidden": true
   },
   "source": [
    "More granular categorisation of products within their vertical. Highly variable text strings. Likely to drop."
   ]
  },
  {
   "cell_type": "code",
   "execution_count": 24,
   "id": "1063aa3d",
   "metadata": {
    "hidden": true,
    "scrolled": true
   },
   "outputs": [
    {
     "data": {
      "text/plain": [
       "77"
      ]
     },
     "execution_count": 24,
     "metadata": {},
     "output_type": "execute_result"
    }
   ],
   "source": [
    "data.famille.nunique()"
   ]
  },
  {
   "cell_type": "code",
   "execution_count": 25,
   "id": "26687eaf",
   "metadata": {
    "hidden": true
   },
   "outputs": [],
   "source": [
    "columns_to_drop.append(\"famille\")"
   ]
  },
  {
   "cell_type": "markdown",
   "id": "e78f55e5",
   "metadata": {
    "heading_collapsed": true,
    "hidden": true
   },
   "source": [
    "### sous_famille"
   ]
  },
  {
   "cell_type": "markdown",
   "id": "c3d2add1",
   "metadata": {
    "hidden": true
   },
   "source": [
    "More granular categorisation of products within their family. Highly variable text strings. Likely to drop."
   ]
  },
  {
   "cell_type": "code",
   "execution_count": 26,
   "id": "42d31181",
   "metadata": {
    "hidden": true
   },
   "outputs": [
    {
     "data": {
      "text/plain": [
       "183"
      ]
     },
     "execution_count": 26,
     "metadata": {},
     "output_type": "execute_result"
    }
   ],
   "source": [
    "data.sous_famille.nunique()"
   ]
  },
  {
   "cell_type": "code",
   "execution_count": 27,
   "id": "fa918274",
   "metadata": {
    "hidden": true
   },
   "outputs": [],
   "source": [
    "columns_to_drop.append(\"sous_famille\")"
   ]
  },
  {
   "cell_type": "markdown",
   "id": "81a5bb6f",
   "metadata": {
    "heading_collapsed": true,
    "hidden": true
   },
   "source": [
    "### macro_categorie"
   ]
  },
  {
   "cell_type": "markdown",
   "id": "f0b53fc0",
   "metadata": {
    "hidden": true
   },
   "source": [
    "\"Macro-category\" - a combination of gender and category. May be colinear with other features, or a potential candidate for engineering a day/night feature."
   ]
  },
  {
   "cell_type": "code",
   "execution_count": 28,
   "id": "b429c2d1",
   "metadata": {
    "hidden": true,
    "scrolled": true
   },
   "outputs": [
    {
     "data": {
      "text/plain": [
       "array(['Enfant Jour', 'Adulte Jour', 'Bébé Debout', 'Enfant Nuit',\n",
       "       'Bébé Nuit', 'Enfant Sous-Vêt', 'Bébé couché', 'Adulte T-Shirt',\n",
       "       'Bébé Sous-Vêt', 'Adulte Sous-Vêt'], dtype=object)"
      ]
     },
     "execution_count": 28,
     "metadata": {},
     "output_type": "execute_result"
    }
   ],
   "source": [
    "data.macro_categorie.unique()"
   ]
  },
  {
   "cell_type": "markdown",
   "id": "d7f65f29",
   "metadata": {
    "heading_collapsed": true,
    "hidden": true
   },
   "source": [
    "### nom_ref"
   ]
  },
  {
   "cell_type": "markdown",
   "id": "1f7b0ac3",
   "metadata": {
    "hidden": true
   },
   "source": [
    "Product name or reference. Not very useful as a learning feature, but can be used for frontend."
   ]
  },
  {
   "cell_type": "code",
   "execution_count": 29,
   "id": "80f26959",
   "metadata": {
    "hidden": true
   },
   "outputs": [
    {
     "data": {
      "text/plain": [
       "5113"
      ]
     },
     "execution_count": 29,
     "metadata": {},
     "output_type": "execute_result"
    }
   ],
   "source": [
    "data.nom_ref.nunique()"
   ]
  },
  {
   "cell_type": "markdown",
   "id": "37b90490",
   "metadata": {
    "heading_collapsed": true,
    "hidden": true
   },
   "source": [
    "### refcol"
   ]
  },
  {
   "cell_type": "markdown",
   "id": "fdf2bfad",
   "metadata": {
    "hidden": true
   },
   "source": [
    "Numeric reference to the product. Not likely to be significant. Add to drop list."
   ]
  },
  {
   "cell_type": "code",
   "execution_count": 30,
   "id": "6dda1757",
   "metadata": {
    "hidden": true
   },
   "outputs": [],
   "source": [
    "columns_to_drop.append(\"refcol\")"
   ]
  },
  {
   "cell_type": "markdown",
   "id": "02508a05",
   "metadata": {
    "heading_collapsed": true,
    "hidden": true
   },
   "source": [
    "### lib_refcol"
   ]
  },
  {
   "cell_type": "markdown",
   "id": "503ca39a",
   "metadata": {
    "hidden": true
   },
   "source": [
    "Product text reference, typically a name and colour. Highly variable text field. Add to drop list."
   ]
  },
  {
   "cell_type": "code",
   "execution_count": 31,
   "id": "e94f6364",
   "metadata": {
    "hidden": true
   },
   "outputs": [
    {
     "data": {
      "text/plain": [
       "0        PARKA               CAPECO\n",
       "1        CIRE                MARS [\n",
       "2        COUPE VENT REVER    OGRE [\n",
       "3         COUPE-VENT REVER.   JAUNE\n",
       "4        Duffle coat         SMOKIN\n",
       "                    ...            \n",
       "13668          CHEMISE A BRE CITY C\n",
       "13669          PYJACOURT     FLE/GR\n",
       "13670          ECHARPE       MAR/SM\n",
       "13671          COMBINAISON L MAR/TE\n",
       "13672          MARINIERE     MAR/SM\n",
       "Name: lib_refcol, Length: 13673, dtype: object"
      ]
     },
     "execution_count": 31,
     "metadata": {},
     "output_type": "execute_result"
    }
   ],
   "source": [
    "data.lib_refcol"
   ]
  },
  {
   "cell_type": "code",
   "execution_count": 32,
   "id": "a66c32f8",
   "metadata": {
    "hidden": true
   },
   "outputs": [],
   "source": [
    "columns_to_drop.append(\"lib_refcol\")"
   ]
  },
  {
   "cell_type": "markdown",
   "id": "30d67f31",
   "metadata": {
    "heading_collapsed": true,
    "hidden": true
   },
   "source": [
    "### coloris"
   ]
  },
  {
   "cell_type": "markdown",
   "id": "6bb80bf6",
   "metadata": {
    "hidden": true
   },
   "source": [
    "The product colour(s). May be useful as an encoded categorical feature, but there are a lot of values."
   ]
  },
  {
   "cell_type": "code",
   "execution_count": 33,
   "id": "512135ab",
   "metadata": {
    "hidden": true
   },
   "outputs": [
    {
     "data": {
      "text/plain": [
       "varian    2113\n",
       "SMOKIN    1137\n",
       "MAR/MU     817\n",
       "MARSHM     681\n",
       "ECUME      546\n",
       "SMO/MA     364\n",
       "MAR/SM     316\n",
       "TERKUI     226\n",
       "NOIR [     224\n",
       "JAUNE      215\n",
       "Name: coloris, dtype: int64"
      ]
     },
     "execution_count": 33,
     "metadata": {},
     "output_type": "execute_result"
    }
   ],
   "source": [
    "data.coloris.value_counts().head(10)"
   ]
  },
  {
   "cell_type": "markdown",
   "id": "03cbeb07",
   "metadata": {
    "heading_collapsed": true,
    "hidden": true
   },
   "source": [
    "### matiere"
   ]
  },
  {
   "cell_type": "markdown",
   "id": "2fd76ae9",
   "metadata": {
    "hidden": true
   },
   "source": [
    "Product material. Similar to Coloris. May be usedful as a categorical feature, but would be difficult to encode so many unique values. "
   ]
  },
  {
   "cell_type": "code",
   "execution_count": 34,
   "id": "e3fc7c71",
   "metadata": {
    "hidden": true
   },
   "outputs": [
    {
     "data": {
      "text/plain": [
       "COTE 1/1           3215\n",
       "Côte 1/1           2515\n",
       "AUTRES              915\n",
       "JERSEY              852\n",
       "Jersey              772\n",
       "                   ... \n",
       "INTERL.GRAT.          1\n",
       "BOU.EP.GRATTEE        1\n",
       "Chambray              1\n",
       "INTERLOCK DFACE       1\n",
       "JERSEY GRAT.          1\n",
       "Name: matiere, Length: 93, dtype: int64"
      ]
     },
     "execution_count": 34,
     "metadata": {},
     "output_type": "execute_result"
    }
   ],
   "source": [
    "data.matiere.value_counts()"
   ]
  },
  {
   "cell_type": "markdown",
   "id": "3eb211bc",
   "metadata": {
    "heading_collapsed": true,
    "hidden": true
   },
   "source": [
    "### saisonnalite"
   ]
  },
  {
   "cell_type": "markdown",
   "id": "d1ba812e",
   "metadata": {
    "hidden": true
   },
   "source": [
    "Seasonality categorical feature - may be useful and seems easy to encode."
   ]
  },
  {
   "cell_type": "code",
   "execution_count": 35,
   "id": "ce3e12e7",
   "metadata": {
    "hidden": true,
    "scrolled": true
   },
   "outputs": [
    {
     "data": {
      "text/plain": [
       "Reconduit    5234\n",
       "Eté          3555\n",
       "Hiver        3281\n",
       "Permanent    1603\n",
       "Name: saisonnalite, dtype: int64"
      ]
     },
     "execution_count": 35,
     "metadata": {},
     "output_type": "execute_result"
    }
   ],
   "source": [
    "data.saisonnalite.value_counts()"
   ]
  },
  {
   "cell_type": "markdown",
   "id": "83d8e71e",
   "metadata": {
    "heading_collapsed": true,
    "hidden": true
   },
   "source": [
    "### pvc_france"
   ]
  },
  {
   "cell_type": "markdown",
   "id": "59f85de0",
   "metadata": {
    "hidden": true
   },
   "source": [
    "Product price. Needs to be cleaned and converted to numeric."
   ]
  },
  {
   "cell_type": "code",
   "execution_count": 36,
   "id": "9898f6cd",
   "metadata": {
    "hidden": true
   },
   "outputs": [
    {
     "data": {
      "text/plain": [
       "0          99\n",
       "1         139\n",
       "2         129\n",
       "3        69,9\n",
       "4         149\n",
       "         ... \n",
       "13668    14,9\n",
       "13669    22,9\n",
       "13670    39,9\n",
       "13671    39,9\n",
       "13672    79,9\n",
       "Name: pvc_france, Length: 13673, dtype: object"
      ]
     },
     "execution_count": 36,
     "metadata": {},
     "output_type": "execute_result"
    }
   ],
   "source": [
    "data.pvc_france"
   ]
  },
  {
   "cell_type": "code",
   "execution_count": 37,
   "id": "cbaf26f6",
   "metadata": {
    "hidden": true
   },
   "outputs": [],
   "source": [
    "data.pvc_france = data.pvc_france.map(replace_commas)"
   ]
  },
  {
   "cell_type": "code",
   "execution_count": 38,
   "id": "1fd1c34f",
   "metadata": {
    "hidden": true
   },
   "outputs": [],
   "source": [
    "data.pvc_france = data.pvc_france.map(make_dash_null)"
   ]
  },
  {
   "cell_type": "code",
   "execution_count": 39,
   "id": "bfc2e6aa",
   "metadata": {
    "hidden": true
   },
   "outputs": [],
   "source": [
    "data.pvc_france = pd.to_numeric(data.pvc_france, errors = \"coerce\")"
   ]
  },
  {
   "cell_type": "markdown",
   "id": "10881182",
   "metadata": {
    "heading_collapsed": true,
    "hidden": true
   },
   "source": [
    "### rang"
   ]
  },
  {
   "cell_type": "markdown",
   "id": "9a61c15d",
   "metadata": {
    "hidden": true
   },
   "source": [
    "\"Rank\" - numeric feature. May be useful"
   ]
  },
  {
   "cell_type": "code",
   "execution_count": 40,
   "id": "b6467830",
   "metadata": {
    "hidden": true,
    "scrolled": true
   },
   "outputs": [
    {
     "data": {
      "text/plain": [
       "<AxesSubplot:ylabel='Frequency'>"
      ]
     },
     "execution_count": 40,
     "metadata": {},
     "output_type": "execute_result"
    },
    {
     "data": {
      "image/png": "[encoded data removed]",
      "text/plain": [
       "<Figure size 432x288 with 1 Axes>"
      ]
     },
     "metadata": {
      "needs_background": "light"
     },
     "output_type": "display_data"
    }
   ],
   "source": [
    "data.rang.plot(kind=\"hist\")"
   ]
  },
  {
   "cell_type": "markdown",
   "id": "e406cf8f",
   "metadata": {
    "heading_collapsed": true,
    "hidden": true
   },
   "source": [
    "### picto"
   ]
  },
  {
   "cell_type": "markdown",
   "id": "2d9c073a",
   "metadata": {
    "hidden": true
   },
   "source": [
    "Photo of the product. All values are nan. To drop."
   ]
  },
  {
   "cell_type": "code",
   "execution_count": 41,
   "id": "1477b03a",
   "metadata": {
    "hidden": true
   },
   "outputs": [],
   "source": [
    "columns_to_drop.append(\"picto\")"
   ]
  },
  {
   "cell_type": "markdown",
   "id": "89f04906",
   "metadata": {
    "heading_collapsed": true,
    "hidden": true
   },
   "source": [
    "### ca_net_ttcn, ca_net_ttc_1n, ca_net_ttc_2n, & ca_net_ttc_3n"
   ]
  },
  {
   "cell_type": "markdown",
   "id": "c39a83e5",
   "metadata": {
    "hidden": true
   },
   "source": [
    "Weekly sales in EUR for the current week. 1n, 2n, and 3n, are the sales for the previous weeks (1, 2, and 3 weeks ago, respectively). Some very large outliers that are likely due to totals included in each csv."
   ]
  },
  {
   "cell_type": "code",
   "execution_count": 42,
   "id": "73520a77",
   "metadata": {
    "hidden": true
   },
   "outputs": [],
   "source": [
    "ca_net_weeks = [\"ca_net_ttcn\", \"ca_net_ttc_1n\", \"ca_net_ttc_2n\", \"ca_net_ttc_3n\"]"
   ]
  },
  {
   "cell_type": "code",
   "execution_count": 43,
   "id": "b59edc2b",
   "metadata": {
    "hidden": true
   },
   "outputs": [],
   "source": [
    "for ca_net in ca_net_weeks:\n",
    "    data[ca_net] = data[ca_net].map(remove_euro)\n",
    "    data[ca_net] = data[ca_net].map(remove_comma)\n",
    "    data[ca_net] = pd.to_numeric(data[ca_net])"
   ]
  },
  {
   "cell_type": "markdown",
   "id": "6e371bd6",
   "metadata": {
    "heading_collapsed": true,
    "hidden": true
   },
   "source": [
    "### qte_venduesn, qte_vendues_1n, qte_vendues_2n, &  qte_vendues_3n"
   ]
  },
  {
   "cell_type": "markdown",
   "id": "a8a480f7",
   "metadata": {
    "hidden": true
   },
   "source": [
    "Weekly unit sales. First feature is for the current week, followed by 1, 2, and 3 weeks ago respectively."
   ]
  },
  {
   "cell_type": "code",
   "execution_count": 44,
   "id": "9e512e25",
   "metadata": {
    "hidden": true
   },
   "outputs": [],
   "source": [
    "unit_sales = [\"qte_venduesn\", \"qte_vendues_1n\", \"qte_vendues_2n\", \"qte_vendues_3n\"]"
   ]
  },
  {
   "cell_type": "code",
   "execution_count": 45,
   "id": "ea32f3da",
   "metadata": {
    "hidden": true
   },
   "outputs": [],
   "source": [
    "for u in unit_sales:\n",
    "    data[u] = data[u].map(remove_comma)\n",
    "    data[u] = pd.to_numeric(data[u])"
   ]
  },
  {
   "cell_type": "markdown",
   "id": "90dea6a9",
   "metadata": {
    "heading_collapsed": true,
    "hidden": true
   },
   "source": [
    "### taux_de_remisen & taux_de_remise_1n"
   ]
  },
  {
   "cell_type": "markdown",
   "id": "fb695688",
   "metadata": {
    "hidden": true
   },
   "source": [
    "Discount rate - one for the current week and the previous week."
   ]
  },
  {
   "cell_type": "code",
   "execution_count": 46,
   "id": "e3b000ab",
   "metadata": {
    "hidden": true
   },
   "outputs": [],
   "source": [
    "discount_rates = [\"taux_de_remisen\", \"taux_de_remise_1n\"]"
   ]
  },
  {
   "cell_type": "code",
   "execution_count": 47,
   "id": "435a37c7",
   "metadata": {
    "hidden": true,
    "scrolled": true
   },
   "outputs": [],
   "source": [
    "for dr in discount_rates:\n",
    "    data[dr] = data[dr].map(remove_percent)\n",
    "    data[dr] = data[dr].map(remove_comma)\n",
    "    data[dr] = data[dr].map(make_dash_null)\n",
    "    data[dr] = pd.to_numeric(data[dr], errors=\"coerce\")"
   ]
  },
  {
   "cell_type": "markdown",
   "id": "8a875bd5",
   "metadata": {
    "heading_collapsed": true,
    "hidden": true
   },
   "source": [
    "### stock_pdvn, stk_transitn, & stock_pdv__transit; stk_dispoentrepotn, stk_hors_dispopour_reassortn, stk_disporalcdegenn, & stk_dispopour_reassortn"
   ]
  },
  {
   "cell_type": "markdown",
   "id": "750739c6",
   "metadata": {
    "hidden": true
   },
   "source": [
    "Different counts of stock: stock in store (PDV), stock in transit (transit), and stock in store + in transit. Also includes warehouse stock (dispoentrepot), and three different transit from warehours features. It's likely not all of these are relevant, but there is potential for some feature engineering here as well. "
   ]
  },
  {
   "cell_type": "code",
   "execution_count": 48,
   "id": "dc78f182",
   "metadata": {
    "hidden": true
   },
   "outputs": [],
   "source": [
    "stocks = [\"stock_pdvn\", \n",
    "    \"stk_transitn\", \n",
    "    \"stock_pdv__transit\",\n",
    "    \"stk_dispoentrepotn\", \n",
    "    \"stk_hors_dispopour_reassortn\", \n",
    "    \"stk_disporalcdegenn\", \n",
    "    \"stk_dispopour_reassortn\"]"
   ]
  },
  {
   "cell_type": "code",
   "execution_count": 49,
   "id": "18156a3c",
   "metadata": {
    "hidden": true
   },
   "outputs": [],
   "source": [
    "for s in stocks:\n",
    "    data[s] = data[s].map(remove_comma)\n",
    "    data[s] = pd.to_numeric(data[s])"
   ]
  },
  {
   "cell_type": "markdown",
   "id": "d7189523",
   "metadata": {
    "heading_collapsed": true,
    "hidden": true
   },
   "source": [
    "### couverturen"
   ]
  },
  {
   "cell_type": "markdown",
   "id": "02e1ab5b",
   "metadata": {
    "hidden": true
   },
   "source": [
    "\"Cover\" rate. ie. the amount of time that the available supply of goods in a company's inventory will last given the current rate of sales."
   ]
  },
  {
   "cell_type": "code",
   "execution_count": 50,
   "id": "d71ce32c",
   "metadata": {
    "hidden": true
   },
   "outputs": [],
   "source": [
    "data.couverturen = data.couverturen.map(remove_comma)\n",
    "data.couverturen = data.couverturen.map(make_dash_null)\n",
    "data.couverturen = pd.to_numeric(data.couverturen)"
   ]
  },
  {
   "cell_type": "markdown",
   "id": "88a1e01e",
   "metadata": {
    "heading_collapsed": true,
    "hidden": true
   },
   "source": [
    "### defilementn"
   ]
  },
  {
   "cell_type": "markdown",
   "id": "82d18ab6",
   "metadata": {
    "hidden": true
   },
   "source": [
    "Run rate - forecast looks at how much inventory you'll probably sell over a given period. Some CSV files had multiples of this column, so it was deemed unreliable and left out."
   ]
  },
  {
   "cell_type": "markdown",
   "id": "da5f1356",
   "metadata": {
    "heading_collapsed": true,
    "hidden": true
   },
   "source": [
    "### ca_net_ttccumuln"
   ]
  },
  {
   "cell_type": "markdown",
   "id": "7e6c2dd7",
   "metadata": {
    "hidden": true
   },
   "source": [
    "Cumulative year's sales in EUR."
   ]
  },
  {
   "cell_type": "code",
   "execution_count": 51,
   "id": "62f3d76d",
   "metadata": {
    "hidden": true
   },
   "outputs": [],
   "source": [
    "data.ca_net_ttccumuln = pd.to_numeric(data.ca_net_ttccumuln.map(remove_euro).map(remove_comma))"
   ]
  },
  {
   "cell_type": "markdown",
   "id": "980aeec0",
   "metadata": {
    "heading_collapsed": true,
    "hidden": true
   },
   "source": [
    "### taux_de_remisecumuln"
   ]
  },
  {
   "cell_type": "markdown",
   "id": "6e80e516",
   "metadata": {
    "hidden": true
   },
   "source": [
    "Cumulative discount rate"
   ]
  },
  {
   "cell_type": "code",
   "execution_count": 52,
   "id": "e524abc6",
   "metadata": {
    "hidden": true
   },
   "outputs": [],
   "source": [
    "data.taux_de_remisecumuln = pd.to_numeric(data.taux_de_remisecumuln.map(remove_percent).map(remove_comma).map(make_dash_null))"
   ]
  },
  {
   "cell_type": "markdown",
   "id": "8951edeb",
   "metadata": {
    "heading_collapsed": true,
    "hidden": true
   },
   "source": [
    "### qte_venduescumuln"
   ]
  },
  {
   "cell_type": "markdown",
   "id": "1fdb6ab2",
   "metadata": {
    "hidden": true
   },
   "source": [
    "Cumulative year's unit sales"
   ]
  },
  {
   "cell_type": "code",
   "execution_count": 53,
   "id": "0e1142fd",
   "metadata": {
    "hidden": true
   },
   "outputs": [],
   "source": [
    "data.qte_venduescumuln = pd.to_numeric(data.qte_venduescumuln.map(remove_comma))"
   ]
  },
  {
   "cell_type": "markdown",
   "id": "b92a7e2b",
   "metadata": {
    "heading_collapsed": true,
    "hidden": true
   },
   "source": [
    "### nb_rcten_venten"
   ]
  },
  {
   "cell_type": "markdown",
   "id": "8e3fe0e6",
   "metadata": {
    "hidden": true
   },
   "source": [
    "Number of markets selling the product "
   ]
  },
  {
   "cell_type": "code",
   "execution_count": 54,
   "id": "959abe94",
   "metadata": {
    "hidden": true
   },
   "outputs": [
    {
     "data": {
      "text/plain": [
       "5     2480\n",
       "7     1994\n",
       "6     1795\n",
       "0     1472\n",
       "1     1418\n",
       "8     1360\n",
       "3     1325\n",
       "4     1264\n",
       "2      524\n",
       "9       25\n",
       "11      11\n",
       "10       5\n",
       "Name: nb_rcten_venten, dtype: int64"
      ]
     },
     "execution_count": 54,
     "metadata": {},
     "output_type": "execute_result"
    }
   ],
   "source": [
    "data.nb_rcten_venten.value_counts()"
   ]
  },
  {
   "cell_type": "markdown",
   "id": "0dfb0e34",
   "metadata": {
    "heading_collapsed": true,
    "hidden": true
   },
   "source": [
    "### nb_pdvavec_rc_en_venten"
   ]
  },
  {
   "cell_type": "markdown",
   "id": "1a02d792",
   "metadata": {
    "hidden": true
   },
   "source": [
    "Number of stores with the product in stock."
   ]
  },
  {
   "cell_type": "code",
   "execution_count": 55,
   "id": "83743ddd",
   "metadata": {
    "hidden": true
   },
   "outputs": [],
   "source": [
    "data.nb_pdvavec_rc_en_venten = pd.to_numeric(data.nb_pdvavec_rc_en_venten)"
   ]
  },
  {
   "cell_type": "markdown",
   "id": "d766433c",
   "metadata": {
    "heading_collapsed": true,
    "hidden": true
   },
   "source": [
    "### vte_moyennesrct/point_de_venten"
   ]
  },
  {
   "cell_type": "markdown",
   "id": "546aaae4",
   "metadata": {
    "hidden": true
   },
   "source": [
    "Average unit sales per location"
   ]
  },
  {
   "cell_type": "code",
   "execution_count": 56,
   "id": "429fc709",
   "metadata": {
    "hidden": true
   },
   "outputs": [],
   "source": [
    "data[\"vte_moyennesrct/point_de_venten\"] = pd.to_numeric(data[\"vte_moyennesrct/point_de_venten\"].map(make_dash_null))"
   ]
  },
  {
   "cell_type": "markdown",
   "id": "c06254f7",
   "metadata": {
    "heading_collapsed": true,
    "hidden": true
   },
   "source": [
    "### aine_1ere_vten"
   ]
  },
  {
   "cell_type": "markdown",
   "id": "0f66e9c2",
   "metadata": {
    "hidden": true
   },
   "source": [
    "Week of first sale. Determines how long a product has been sold. Will need to convert to datetime"
   ]
  },
  {
   "cell_type": "code",
   "execution_count": 57,
   "id": "a56d0d06",
   "metadata": {
    "hidden": true
   },
   "outputs": [
    {
     "data": {
      "text/plain": [
       "0        2018-S29\n",
       "1        2018-S29\n",
       "2        2018-S42\n",
       "3        2018-S34\n",
       "4        2018-S36\n",
       "           ...   \n",
       "13668    2021-S01\n",
       "13669    2021-S03\n",
       "13670         NaN\n",
       "13671    2021-S06\n",
       "13672    2020-S53\n",
       "Name: aine_1ere_vten, Length: 13673, dtype: object"
      ]
     },
     "execution_count": 57,
     "metadata": {},
     "output_type": "execute_result"
    }
   ],
   "source": [
    "data.aine_1ere_vten.map(make_dash_null)"
   ]
  },
  {
   "cell_type": "markdown",
   "id": "4e9d3466",
   "metadata": {
    "heading_collapsed": true,
    "hidden": true
   },
   "source": [
    "### tx_ecoulcumuln"
   ]
  },
  {
   "cell_type": "markdown",
   "id": "d728b35b",
   "metadata": {
    "hidden": true
   },
   "source": [
    "Run rate - amount of stock of the product that has been sold for the season. 100% means all stock has been sold."
   ]
  },
  {
   "cell_type": "code",
   "execution_count": 58,
   "id": "5367554b",
   "metadata": {
    "hidden": true
   },
   "outputs": [],
   "source": [
    "data.tx_ecoulcumuln = pd.to_numeric(data.tx_ecoulcumuln.map(remove_percent).map(remove_comma).map(make_dash_null))"
   ]
  },
  {
   "cell_type": "markdown",
   "id": "a4ca6d0b",
   "metadata": {
    "heading_collapsed": true,
    "hidden": true
   },
   "source": [
    "### engagement_globaln"
   ]
  },
  {
   "cell_type": "markdown",
   "id": "c741779b",
   "metadata": {
    "hidden": true
   },
   "source": [
    "Website engagement for the product"
   ]
  },
  {
   "cell_type": "code",
   "execution_count": 59,
   "id": "7359dc2c",
   "metadata": {
    "hidden": true
   },
   "outputs": [],
   "source": [
    "data.engagement_globaln = pd.to_numeric(data.engagement_globaln.map(remove_comma))"
   ]
  },
  {
   "cell_type": "markdown",
   "id": "367e6411",
   "metadata": {
    "heading_collapsed": true,
    "hidden": true
   },
   "source": [
    "### tx_ecoul_sur_engtcumuln"
   ]
  },
  {
   "cell_type": "markdown",
   "id": "6608627c",
   "metadata": {
    "hidden": true
   },
   "source": [
    "Run rate including online sales"
   ]
  },
  {
   "cell_type": "code",
   "execution_count": 60,
   "id": "d8bc545f",
   "metadata": {
    "hidden": true
   },
   "outputs": [],
   "source": [
    "data.tx_ecoul_sur_engtcumuln = pd.to_numeric(data.tx_ecoul_sur_engtcumuln.map(remove_percent).map(remove_comma).map(make_dash_null))"
   ]
  },
  {
   "cell_type": "markdown",
   "id": "b5617813",
   "metadata": {
    "hidden": true
   },
   "source": [
    "### %"
   ]
  },
  {
   "cell_type": "markdown",
   "id": "c1f0aaa5",
   "metadata": {
    "hidden": true
   },
   "source": [
    " The markdown selected for the sale"
   ]
  },
  {
   "cell_type": "code",
   "execution_count": 61,
   "id": "8323edd7",
   "metadata": {
    "hidden": true
   },
   "outputs": [],
   "source": [
    "data[\"%\"] = pd.to_numeric(data[\"%\"].map(remove_percent))/100"
   ]
  },
  {
   "cell_type": "markdown",
   "id": "b87d1568",
   "metadata": {},
   "source": [
    "## Updated DataFrame"
   ]
  },
  {
   "cell_type": "code",
   "execution_count": 62,
   "id": "f7784d66",
   "metadata": {},
   "outputs": [],
   "source": [
    "data = data.drop(columns=\"picto\")"
   ]
  },
  {
   "cell_type": "code",
   "execution_count": 63,
   "id": "50019b48",
   "metadata": {},
   "outputs": [],
   "source": [
    "data.dropna(inplace = True)"
   ]
  },
  {
   "cell_type": "code",
   "execution_count": 64,
   "id": "6f366693",
   "metadata": {},
   "outputs": [
    {
     "name": "stdout",
     "output_type": "stream",
     "text": [
      "<class 'pandas.core.frame.DataFrame'>\n",
      "Int64Index: 4359 entries, 0 to 11386\n",
      "Data columns (total 48 columns):\n",
      " #   Column                           Non-Null Count  Dtype  \n",
      "---  ------                           --------------  -----  \n",
      " 0   index                            4359 non-null   int64  \n",
      " 1   code_op_com                      4359 non-null   object \n",
      " 2   libelle_op_com                   4359 non-null   object \n",
      " 3   vitrine_collection               4359 non-null   object \n",
      " 4   cible                            4359 non-null   object \n",
      " 5   sous_cible                       4359 non-null   object \n",
      " 6   sexe                             4359 non-null   object \n",
      " 7   categorie                        4359 non-null   object \n",
      " 8   famille                          4359 non-null   object \n",
      " 9   sous_famille                     4359 non-null   object \n",
      " 10  macro_categorie                  4359 non-null   object \n",
      " 11  nom_ref                          4359 non-null   object \n",
      " 12  refcol                           4359 non-null   object \n",
      " 13  lib_refcol                       4359 non-null   object \n",
      " 14  coloris                          4359 non-null   object \n",
      " 15  matiere                          4359 non-null   object \n",
      " 16  saisonnalite                     4359 non-null   object \n",
      " 17  pvc_france                       4359 non-null   float64\n",
      " 18  rang                             4359 non-null   float64\n",
      " 19  ca_net_ttcn                      4359 non-null   int64  \n",
      " 20  ca_net_ttc_1n                    4359 non-null   int64  \n",
      " 21  ca_net_ttc_2n                    4359 non-null   int64  \n",
      " 22  ca_net_ttc_3n                    4359 non-null   int64  \n",
      " 23  qte_venduesn                     4359 non-null   int64  \n",
      " 24  qte_vendues_1n                   4359 non-null   int64  \n",
      " 25  qte_vendues_2n                   4359 non-null   int64  \n",
      " 26  qte_vendues_3n                   4359 non-null   int64  \n",
      " 27  taux_de_remisen                  4359 non-null   float64\n",
      " 28  taux_de_remise_1n                4359 non-null   float64\n",
      " 29  stock_pdvn                       4359 non-null   int64  \n",
      " 30  stk_transitn                     4359 non-null   int64  \n",
      " 31  stock_pdv__transit               4359 non-null   int64  \n",
      " 32  couverturen                      4359 non-null   float64\n",
      " 33  ca_net_ttccumuln                 4359 non-null   int64  \n",
      " 34  taux_de_remisecumuln             4359 non-null   float64\n",
      " 35  qte_venduescumuln                4359 non-null   int64  \n",
      " 36  nb_rcten_venten                  4359 non-null   int64  \n",
      " 37  nb_pdvavec_rc_en_venten          4359 non-null   int64  \n",
      " 38  vte_moyennesrct/point_de_venten  4359 non-null   float64\n",
      " 39  aine_1ere_vten                   4359 non-null   object \n",
      " 40  tx_ecoulcumuln                   4359 non-null   float64\n",
      " 41  engagement_globaln               4359 non-null   int64  \n",
      " 42  tx_ecoul_sur_engtcumuln          4359 non-null   float64\n",
      " 43  stk_dispoentrepotn               4359 non-null   int64  \n",
      " 44  stk_hors_dispopour_reassortn     4359 non-null   int64  \n",
      " 45  stk_disporalcdegenn              4359 non-null   int64  \n",
      " 46  stk_dispopour_reassortn          4359 non-null   int64  \n",
      " 47  %                                4359 non-null   float64\n",
      "dtypes: float64(10), int64(21), object(17)\n",
      "memory usage: 1.6+ MB\n"
     ]
    }
   ],
   "source": [
    "data.info()"
   ]
  },
  {
   "cell_type": "code",
   "execution_count": 65,
   "id": "53bfb2b9",
   "metadata": {},
   "outputs": [
    {
     "data": {
      "text/plain": [
       "['code_op_com',\n",
       " 'libelle_op_com',\n",
       " 'vitrine_collection',\n",
       " 'famille',\n",
       " 'sous_famille',\n",
       " 'refcol',\n",
       " 'lib_refcol',\n",
       " 'picto']"
      ]
     },
     "execution_count": 65,
     "metadata": {},
     "output_type": "execute_result"
    }
   ],
   "source": [
    "columns_to_drop"
   ]
  },
  {
   "cell_type": "code",
   "execution_count": null,
   "id": "9d72d509",
   "metadata": {},
   "outputs": [],
   "source": []
  }
 ],
 "metadata": {
  "kernelspec": {
   "display_name": "Python 3 (ipykernel)",
   "language": "python",
   "name": "python3"
  },
  "language_info": {
   "codemirror_mode": {
    "name": "ipython",
    "version": 3
   },
   "file_extension": ".py",
   "mimetype": "text/x-python",
   "name": "python",
   "nbconvert_exporter": "python",
   "pygments_lexer": "ipython3",
   "version": "3.8.12"
  },
  "toc": {
   "base_numbering": 1,
   "nav_menu": {},
   "number_sections": true,
   "sideBar": true,
   "skip_h1_title": false,
   "title_cell": "Table of Contents",
   "title_sidebar": "Contents",
   "toc_cell": false,
   "toc_position": {},
   "toc_section_display": true,
   "toc_window_display": false
  }
 },
 "nbformat": 4,
 "nbformat_minor": 5
}
