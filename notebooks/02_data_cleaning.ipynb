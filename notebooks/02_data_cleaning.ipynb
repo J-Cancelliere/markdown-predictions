{
 "cells": [
  {
   "cell_type": "markdown",
   "id": "07b2c1b4",
   "metadata": {},
   "source": [
    "# Data review and cleaning"
   ]
  },
  {
   "cell_type": "markdown",
   "id": "d9009f6e",
   "metadata": {},
   "source": [
    "## Import the parser and create the dataframe"
   ]
  },
  {
   "cell_type": "code",
   "execution_count": 1,
   "id": "da1062a4",
   "metadata": {},
   "outputs": [],
   "source": [
    "from markdown.parser import DataParser"
   ]
  },
  {
   "cell_type": "code",
   "execution_count": 2,
   "id": "22d14c22",
   "metadata": {},
   "outputs": [
    {
     "name": "stdout",
     "output_type": "stream",
     "text": [
      "/home/joecancell/code/J-Cancelliere/markdown-predictions/raw_data/AW20 W2 POST.csv\n",
      "/home/joecancell/code/J-Cancelliere/markdown-predictions/raw_data/AW18 W3 POST.csv\n",
      "/home/joecancell/code/J-Cancelliere/markdown-predictions/raw_data/SS19 W27 POST.csv\n",
      "/home/joecancell/code/J-Cancelliere/markdown-predictions/raw_data/SS21 W27 POST.csv\n",
      "/home/joecancell/code/J-Cancelliere/markdown-predictions/raw_data/SS18 W27 POST.csv\n",
      "/home/joecancell/code/J-Cancelliere/markdown-predictions/raw_data/AW19 W3 POST.csv\n",
      "/home/joecancell/code/J-Cancelliere/markdown-predictions/raw_data/SS20 W27 POST.csv\n"
     ]
    }
   ],
   "source": [
    "data = DataParser().read_sales_data()"
   ]
  },
  {
   "cell_type": "code",
   "execution_count": null,
   "id": "41126cbd",
   "metadata": {},
   "outputs": [],
   "source": []
  }
 ],
 "metadata": {
  "kernelspec": {
   "display_name": "Python 3 (ipykernel)",
   "language": "python",
   "name": "python3"
  },
  "language_info": {
   "codemirror_mode": {
    "name": "ipython",
    "version": 3
   },
   "file_extension": ".py",
   "mimetype": "text/x-python",
   "name": "python",
   "nbconvert_exporter": "python",
   "pygments_lexer": "ipython3",
   "version": "3.8.12"
  },
  "toc": {
   "base_numbering": 1,
   "nav_menu": {},
   "number_sections": true,
   "sideBar": true,
   "skip_h1_title": false,
   "title_cell": "Table of Contents",
   "title_sidebar": "Contents",
   "toc_cell": false,
   "toc_position": {},
   "toc_section_display": true,
   "toc_window_display": false
  }
 },
 "nbformat": 4,
 "nbformat_minor": 5
}
