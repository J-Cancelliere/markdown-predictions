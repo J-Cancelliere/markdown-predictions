{
 "cells": [
  {
   "cell_type": "markdown",
   "id": "07b2c1b4",
   "metadata": {},
   "source": [
    "# Data Analysis\n"
   ]
  },
  {
   "cell_type": "markdown",
   "id": "d9009f6e",
   "metadata": {},
   "source": [
    "## Import the parser and create the dataframe"
   ]
  },
  {
   "cell_type": "code",
   "execution_count": 10,
   "id": "da1062a4",
   "metadata": {},
   "outputs": [],
   "source": [
    "from markdown.parser import DataParser\n",
    "from markdown.cleaning import CleanData\n",
    "import markdown.toolkit\n",
    "import pandas as pd\n",
    "import numpy as np\n",
    "import matplotlib.pyplot as plt\n",
    "import seaborn as sns"
   ]
  },
  {
   "cell_type": "code",
   "execution_count": 46,
   "id": "22d14c22",
   "metadata": {},
   "outputs": [],
   "source": [
    "data = CleanData().get_clean_data()"
   ]
  },
  {
   "cell_type": "code",
   "execution_count": 47,
   "id": "41126cbd",
   "metadata": {},
   "outputs": [
    {
     "data": {
      "text/html": [
       "<div>\n",
       "<style scoped>\n",
       "    .dataframe tbody tr th:only-of-type {\n",
       "        vertical-align: middle;\n",
       "    }\n",
       "\n",
       "    .dataframe tbody tr th {\n",
       "        vertical-align: top;\n",
       "    }\n",
       "\n",
       "    .dataframe thead th {\n",
       "        text-align: right;\n",
       "    }\n",
       "</style>\n",
       "<table border=\"1\" class=\"dataframe\">\n",
       "  <thead>\n",
       "    <tr style=\"text-align: right;\">\n",
       "      <th></th>\n",
       "      <th>cible</th>\n",
       "      <th>sous_cible</th>\n",
       "      <th>sexe</th>\n",
       "      <th>categorie</th>\n",
       "      <th>macro_categorie</th>\n",
       "      <th>nom_ref</th>\n",
       "      <th>coloris</th>\n",
       "      <th>matiere</th>\n",
       "      <th>saisonnalite</th>\n",
       "      <th>pvc_france</th>\n",
       "      <th>...</th>\n",
       "      <th>ca_net_ttccumuln</th>\n",
       "      <th>taux_de_remisecumuln</th>\n",
       "      <th>qte_venduescumuln</th>\n",
       "      <th>nb_rcten_venten</th>\n",
       "      <th>nb_pdvavec_rc_en_venten</th>\n",
       "      <th>aine_1ere_vten</th>\n",
       "      <th>tx_ecoulcumuln</th>\n",
       "      <th>stk_dispoentrepotn</th>\n",
       "      <th>stk_hors_dispopour_reassortn</th>\n",
       "      <th>%</th>\n",
       "    </tr>\n",
       "  </thead>\n",
       "  <tbody>\n",
       "    <tr>\n",
       "      <th>0</th>\n",
       "      <td>2-ENFANT</td>\n",
       "      <td>PETIT</td>\n",
       "      <td>FE</td>\n",
       "      <td>JOUR</td>\n",
       "      <td>Enfant Jour</td>\n",
       "      <td>LOUPIOTE</td>\n",
       "      <td>COQ/MU</td>\n",
       "      <td>Autres</td>\n",
       "      <td>Hiver</td>\n",
       "      <td>129</td>\n",
       "      <td>...</td>\n",
       "      <td>85359</td>\n",
       "      <td>41.34</td>\n",
       "      <td>1128</td>\n",
       "      <td>7</td>\n",
       "      <td>133</td>\n",
       "      <td>2020-S36</td>\n",
       "      <td>36</td>\n",
       "      <td>637</td>\n",
       "      <td>634</td>\n",
       "      <td>50</td>\n",
       "    </tr>\n",
       "    <tr>\n",
       "      <th>1</th>\n",
       "      <td>2-ENFANT</td>\n",
       "      <td>PETIT</td>\n",
       "      <td>MA</td>\n",
       "      <td>JOUR</td>\n",
       "      <td>Enfant Jour</td>\n",
       "      <td>LOOKY</td>\n",
       "      <td>SMOKIN</td>\n",
       "      <td>Toile (fil à fil pilou)</td>\n",
       "      <td>Hiver</td>\n",
       "      <td>55</td>\n",
       "      <td>...</td>\n",
       "      <td>151368</td>\n",
       "      <td>36.36</td>\n",
       "      <td>4160</td>\n",
       "      <td>7</td>\n",
       "      <td>144</td>\n",
       "      <td>2020-S36</td>\n",
       "      <td>83</td>\n",
       "      <td>127</td>\n",
       "      <td>124</td>\n",
       "      <td>50</td>\n",
       "    </tr>\n",
       "    <tr>\n",
       "      <th>2</th>\n",
       "      <td>1-BEBE</td>\n",
       "      <td>BEBE Debout</td>\n",
       "      <td>MA</td>\n",
       "      <td>JOUR</td>\n",
       "      <td>Bébé Debout</td>\n",
       "      <td>LESS</td>\n",
       "      <td>SMOKIN</td>\n",
       "      <td>Interlock ouatiné</td>\n",
       "      <td>Hiver</td>\n",
       "      <td>29.9</td>\n",
       "      <td>...</td>\n",
       "      <td>111323</td>\n",
       "      <td>17.00</td>\n",
       "      <td>3992</td>\n",
       "      <td>5</td>\n",
       "      <td>161</td>\n",
       "      <td>2020-S36</td>\n",
       "      <td>69</td>\n",
       "      <td>0</td>\n",
       "      <td>-9</td>\n",
       "      <td>30</td>\n",
       "    </tr>\n",
       "    <tr>\n",
       "      <th>3</th>\n",
       "      <td>2-ENFANT</td>\n",
       "      <td>PETIT</td>\n",
       "      <td>MA</td>\n",
       "      <td>JOUR</td>\n",
       "      <td>Enfant Jour</td>\n",
       "      <td>LOUNO</td>\n",
       "      <td>SMO/TE</td>\n",
       "      <td>Autres</td>\n",
       "      <td>Hiver</td>\n",
       "      <td>129</td>\n",
       "      <td>...</td>\n",
       "      <td>167903</td>\n",
       "      <td>34.89</td>\n",
       "      <td>1999</td>\n",
       "      <td>7</td>\n",
       "      <td>134</td>\n",
       "      <td>2020-S36</td>\n",
       "      <td>68</td>\n",
       "      <td>187</td>\n",
       "      <td>184</td>\n",
       "      <td>50</td>\n",
       "    </tr>\n",
       "    <tr>\n",
       "      <th>4</th>\n",
       "      <td>2-ENFANT</td>\n",
       "      <td>PETIT</td>\n",
       "      <td>FE</td>\n",
       "      <td>NUIT</td>\n",
       "      <td>Enfant Nuit</td>\n",
       "      <td>LIMANDE</td>\n",
       "      <td>MAR/MU</td>\n",
       "      <td>Molleton</td>\n",
       "      <td>Hiver</td>\n",
       "      <td>35.9</td>\n",
       "      <td>...</td>\n",
       "      <td>29549</td>\n",
       "      <td>29.09</td>\n",
       "      <td>1093</td>\n",
       "      <td>8</td>\n",
       "      <td>1</td>\n",
       "      <td>2020-S35</td>\n",
       "      <td>38</td>\n",
       "      <td>1989</td>\n",
       "      <td>1948</td>\n",
       "      <td>30</td>\n",
       "    </tr>\n",
       "    <tr>\n",
       "      <th>...</th>\n",
       "      <td>...</td>\n",
       "      <td>...</td>\n",
       "      <td>...</td>\n",
       "      <td>...</td>\n",
       "      <td>...</td>\n",
       "      <td>...</td>\n",
       "      <td>...</td>\n",
       "      <td>...</td>\n",
       "      <td>...</td>\n",
       "      <td>...</td>\n",
       "      <td>...</td>\n",
       "      <td>...</td>\n",
       "      <td>...</td>\n",
       "      <td>...</td>\n",
       "      <td>...</td>\n",
       "      <td>...</td>\n",
       "      <td>...</td>\n",
       "      <td>...</td>\n",
       "      <td>...</td>\n",
       "      <td>...</td>\n",
       "      <td>...</td>\n",
       "    </tr>\n",
       "    <tr>\n",
       "      <th>15544</th>\n",
       "      <td>1-BEBE</td>\n",
       "      <td>BEBE Couché</td>\n",
       "      <td>MI</td>\n",
       "      <td>JOUR</td>\n",
       "      <td>Bébé couché</td>\n",
       "      <td>FACETTE</td>\n",
       "      <td>MARSHM</td>\n",
       "      <td>Tubique bio</td>\n",
       "      <td>Reconduit</td>\n",
       "      <td>39.9</td>\n",
       "      <td>...</td>\n",
       "      <td>31487</td>\n",
       "      <td>6.17</td>\n",
       "      <td>841</td>\n",
       "      <td>5</td>\n",
       "      <td>130</td>\n",
       "      <td>2020-S01</td>\n",
       "      <td>98</td>\n",
       "      <td>0</td>\n",
       "      <td>0</td>\n",
       "      <td>0</td>\n",
       "    </tr>\n",
       "    <tr>\n",
       "      <th>15545</th>\n",
       "      <td>2-ENFANT</td>\n",
       "      <td>PETIT</td>\n",
       "      <td>FE</td>\n",
       "      <td>JOUR</td>\n",
       "      <td>Enfant Jour</td>\n",
       "      <td>CORNILLE</td>\n",
       "      <td>SMO/OR</td>\n",
       "      <td>Côte 1/1</td>\n",
       "      <td>Reconduit</td>\n",
       "      <td>29.9</td>\n",
       "      <td>...</td>\n",
       "      <td>2991</td>\n",
       "      <td>17.76</td>\n",
       "      <td>110</td>\n",
       "      <td>7</td>\n",
       "      <td>65</td>\n",
       "      <td>2020-S01</td>\n",
       "      <td>58</td>\n",
       "      <td>0</td>\n",
       "      <td>0</td>\n",
       "      <td>0</td>\n",
       "    </tr>\n",
       "    <tr>\n",
       "      <th>15546</th>\n",
       "      <td>1-BEBE</td>\n",
       "      <td>BEBE Couché</td>\n",
       "      <td>MI</td>\n",
       "      <td>JOUR</td>\n",
       "      <td>Bébé couché</td>\n",
       "      <td>CABALERO</td>\n",
       "      <td>TOUDOU</td>\n",
       "      <td>Tricot bio</td>\n",
       "      <td>Reconduit</td>\n",
       "      <td>39.9</td>\n",
       "      <td>...</td>\n",
       "      <td>1151</td>\n",
       "      <td>3.86</td>\n",
       "      <td>30</td>\n",
       "      <td>3</td>\n",
       "      <td>26</td>\n",
       "      <td>2020-S01</td>\n",
       "      <td>97</td>\n",
       "      <td>0</td>\n",
       "      <td>0</td>\n",
       "      <td>0</td>\n",
       "    </tr>\n",
       "    <tr>\n",
       "      <th>15547</th>\n",
       "      <td>2-ENFANT</td>\n",
       "      <td>PETIT</td>\n",
       "      <td>MA</td>\n",
       "      <td>JOUR</td>\n",
       "      <td>Enfant Jour</td>\n",
       "      <td>FLIP</td>\n",
       "      <td>SHINE</td>\n",
       "      <td>Jersey</td>\n",
       "      <td>Eté</td>\n",
       "      <td>27.9</td>\n",
       "      <td>...</td>\n",
       "      <td>10394</td>\n",
       "      <td>23.39</td>\n",
       "      <td>471</td>\n",
       "      <td>7</td>\n",
       "      <td>1</td>\n",
       "      <td>2020-S08</td>\n",
       "      <td>98</td>\n",
       "      <td>1</td>\n",
       "      <td>-224</td>\n",
       "      <td>30</td>\n",
       "    </tr>\n",
       "    <tr>\n",
       "      <th>15548</th>\n",
       "      <td>1-BEBE</td>\n",
       "      <td>BEBE Couché</td>\n",
       "      <td>MI</td>\n",
       "      <td>NUIT</td>\n",
       "      <td>Bébé couché</td>\n",
       "      <td>nan</td>\n",
       "      <td>nan</td>\n",
       "      <td>support MU</td>\n",
       "      <td>Permanent</td>\n",
       "      <td>299</td>\n",
       "      <td>...</td>\n",
       "      <td>16286</td>\n",
       "      <td>2.74</td>\n",
       "      <td>56</td>\n",
       "      <td>2</td>\n",
       "      <td>12</td>\n",
       "      <td>2020-S01</td>\n",
       "      <td>88</td>\n",
       "      <td>0</td>\n",
       "      <td>0</td>\n",
       "      <td>0</td>\n",
       "    </tr>\n",
       "  </tbody>\n",
       "</table>\n",
       "<p>15549 rows × 35 columns</p>\n",
       "</div>"
      ],
      "text/plain": [
       "          cible   sous_cible sexe categorie macro_categorie   nom_ref coloris  \\\n",
       "0      2-ENFANT        PETIT   FE      JOUR     Enfant Jour  LOUPIOTE  COQ/MU   \n",
       "1      2-ENFANT        PETIT   MA      JOUR     Enfant Jour     LOOKY  SMOKIN   \n",
       "2        1-BEBE  BEBE Debout   MA      JOUR     Bébé Debout      LESS  SMOKIN   \n",
       "3      2-ENFANT        PETIT   MA      JOUR     Enfant Jour     LOUNO  SMO/TE   \n",
       "4      2-ENFANT        PETIT   FE      NUIT     Enfant Nuit   LIMANDE  MAR/MU   \n",
       "...         ...          ...  ...       ...             ...       ...     ...   \n",
       "15544    1-BEBE  BEBE Couché   MI      JOUR     Bébé couché   FACETTE  MARSHM   \n",
       "15545  2-ENFANT        PETIT   FE      JOUR     Enfant Jour  CORNILLE  SMO/OR   \n",
       "15546    1-BEBE  BEBE Couché   MI      JOUR     Bébé couché  CABALERO  TOUDOU   \n",
       "15547  2-ENFANT        PETIT   MA      JOUR     Enfant Jour      FLIP   SHINE   \n",
       "15548    1-BEBE  BEBE Couché   MI      NUIT     Bébé couché       nan     nan   \n",
       "\n",
       "                       matiere saisonnalite pvc_france  ...  ca_net_ttccumuln  \\\n",
       "0                       Autres        Hiver        129  ...             85359   \n",
       "1      Toile (fil à fil pilou)        Hiver         55  ...            151368   \n",
       "2            Interlock ouatiné        Hiver       29.9  ...            111323   \n",
       "3                       Autres        Hiver        129  ...            167903   \n",
       "4                     Molleton        Hiver       35.9  ...             29549   \n",
       "...                        ...          ...        ...  ...               ...   \n",
       "15544              Tubique bio    Reconduit       39.9  ...             31487   \n",
       "15545                 Côte 1/1    Reconduit       29.9  ...              2991   \n",
       "15546               Tricot bio    Reconduit       39.9  ...              1151   \n",
       "15547                   Jersey          Eté       27.9  ...             10394   \n",
       "15548               support MU    Permanent        299  ...             16286   \n",
       "\n",
       "       taux_de_remisecumuln  qte_venduescumuln  nb_rcten_venten  \\\n",
       "0                     41.34               1128                7   \n",
       "1                     36.36               4160                7   \n",
       "2                     17.00               3992                5   \n",
       "3                     34.89               1999                7   \n",
       "4                     29.09               1093                8   \n",
       "...                     ...                ...              ...   \n",
       "15544                  6.17                841                5   \n",
       "15545                 17.76                110                7   \n",
       "15546                  3.86                 30                3   \n",
       "15547                 23.39                471                7   \n",
       "15548                  2.74                 56                2   \n",
       "\n",
       "       nb_pdvavec_rc_en_venten  aine_1ere_vten  tx_ecoulcumuln  \\\n",
       "0                          133        2020-S36              36   \n",
       "1                          144        2020-S36              83   \n",
       "2                          161        2020-S36              69   \n",
       "3                          134        2020-S36              68   \n",
       "4                            1        2020-S35              38   \n",
       "...                        ...             ...             ...   \n",
       "15544                      130        2020-S01              98   \n",
       "15545                       65        2020-S01              58   \n",
       "15546                       26        2020-S01              97   \n",
       "15547                        1        2020-S08              98   \n",
       "15548                       12        2020-S01              88   \n",
       "\n",
       "       stk_dispoentrepotn  stk_hors_dispopour_reassortn   %  \n",
       "0                     637                           634  50  \n",
       "1                     127                           124  50  \n",
       "2                       0                            -9  30  \n",
       "3                     187                           184  50  \n",
       "4                    1989                          1948  30  \n",
       "...                   ...                           ...  ..  \n",
       "15544                   0                             0   0  \n",
       "15545                   0                             0   0  \n",
       "15546                   0                             0   0  \n",
       "15547                   1                          -224  30  \n",
       "15548                   0                             0   0  \n",
       "\n",
       "[15549 rows x 35 columns]"
      ]
     },
     "execution_count": 47,
     "metadata": {},
     "output_type": "execute_result"
    }
   ],
   "source": [
    "data.dropna()"
   ]
  },
  {
   "cell_type": "markdown",
   "id": "1157d06b",
   "metadata": {},
   "source": [
    "## Categorical feature analysis"
   ]
  },
  {
   "cell_type": "code",
   "execution_count": 5,
   "id": "4643685a",
   "metadata": {},
   "outputs": [],
   "source": [
    "cat_data = data.iloc()[:,:9]\n",
    "num_data = data.iloc()[:,9:]"
   ]
  },
  {
   "cell_type": "code",
   "execution_count": 35,
   "id": "e27aa000",
   "metadata": {},
   "outputs": [
    {
     "data": {
      "text/html": [
       "<div>\n",
       "<style scoped>\n",
       "    .dataframe tbody tr th:only-of-type {\n",
       "        vertical-align: middle;\n",
       "    }\n",
       "\n",
       "    .dataframe tbody tr th {\n",
       "        vertical-align: top;\n",
       "    }\n",
       "\n",
       "    .dataframe thead th {\n",
       "        text-align: right;\n",
       "    }\n",
       "</style>\n",
       "<table border=\"1\" class=\"dataframe\">\n",
       "  <thead>\n",
       "    <tr style=\"text-align: right;\">\n",
       "      <th></th>\n",
       "      <th>cible</th>\n",
       "      <th>sous_cible</th>\n",
       "      <th>sexe</th>\n",
       "      <th>categorie</th>\n",
       "      <th>macro_categorie</th>\n",
       "      <th>nom_ref</th>\n",
       "      <th>coloris</th>\n",
       "      <th>matiere</th>\n",
       "      <th>saisonnalite</th>\n",
       "    </tr>\n",
       "  </thead>\n",
       "  <tbody>\n",
       "    <tr>\n",
       "      <th>count</th>\n",
       "      <td>15549</td>\n",
       "      <td>15549</td>\n",
       "      <td>15549</td>\n",
       "      <td>15549</td>\n",
       "      <td>15549</td>\n",
       "      <td>15549</td>\n",
       "      <td>15549</td>\n",
       "      <td>15549</td>\n",
       "      <td>15549</td>\n",
       "    </tr>\n",
       "    <tr>\n",
       "      <th>unique</th>\n",
       "      <td>4</td>\n",
       "      <td>6</td>\n",
       "      <td>3</td>\n",
       "      <td>7</td>\n",
       "      <td>10</td>\n",
       "      <td>5565</td>\n",
       "      <td>753</td>\n",
       "      <td>95</td>\n",
       "      <td>4</td>\n",
       "    </tr>\n",
       "    <tr>\n",
       "      <th>top</th>\n",
       "      <td>1-BEBE</td>\n",
       "      <td>PETIT</td>\n",
       "      <td>FE</td>\n",
       "      <td>JOUR</td>\n",
       "      <td>Enfant Jour</td>\n",
       "      <td>nan</td>\n",
       "      <td>varian</td>\n",
       "      <td>Côte 1/1</td>\n",
       "      <td>Reconduit</td>\n",
       "    </tr>\n",
       "    <tr>\n",
       "      <th>freq</th>\n",
       "      <td>6333</td>\n",
       "      <td>5453</td>\n",
       "      <td>6366</td>\n",
       "      <td>5685</td>\n",
       "      <td>3223</td>\n",
       "      <td>1829</td>\n",
       "      <td>2481</td>\n",
       "      <td>3314</td>\n",
       "      <td>5958</td>\n",
       "    </tr>\n",
       "  </tbody>\n",
       "</table>\n",
       "</div>"
      ],
      "text/plain": [
       "         cible sous_cible   sexe categorie macro_categorie nom_ref coloris  \\\n",
       "count    15549      15549  15549     15549           15549   15549   15549   \n",
       "unique       4          6      3         7              10    5565     753   \n",
       "top     1-BEBE      PETIT     FE      JOUR     Enfant Jour     nan  varian   \n",
       "freq      6333       5453   6366      5685            3223    1829    2481   \n",
       "\n",
       "         matiere saisonnalite  \n",
       "count      15549        15549  \n",
       "unique        95            4  \n",
       "top     Côte 1/1    Reconduit  \n",
       "freq        3314         5958  "
      ]
     },
     "execution_count": 35,
     "metadata": {},
     "output_type": "execute_result"
    }
   ],
   "source": [
    "cat_data.describe()"
   ]
  },
  {
   "cell_type": "code",
   "execution_count": 43,
   "id": "2d6acb02",
   "metadata": {},
   "outputs": [
    {
     "data": {
      "text/plain": [
       "<AxesSubplot:xlabel='cible', ylabel='qte_venduescumuln'>"
      ]
     },
     "execution_count": 43,
     "metadata": {},
     "output_type": "execute_result"
    },
    {
     "data": {
      "image/png": "[encoded data removed]",
      "text/plain": [
       "<Figure size 432x288 with 1 Axes>"
      ]
     },
     "metadata": {
      "needs_background": "light"
     },
     "output_type": "display_data"
    }
   ],
   "source": [
    "sns.barplot(x=\"cible\",y=\"qte_venduescumuln\",data=data)"
   ]
  },
  {
   "cell_type": "code",
   "execution_count": 48,
   "id": "6e57fc9b",
   "metadata": {},
   "outputs": [
    {
     "data": {
      "text/plain": [
       "<AxesSubplot:xlabel='sous_cible', ylabel='qte_venduescumuln'>"
      ]
     },
     "execution_count": 48,
     "metadata": {},
     "output_type": "execute_result"
    },
    {
     "data": {
      "image/png": "[encoded data removed]",
      "text/plain": [
       "<Figure size 432x288 with 1 Axes>"
      ]
     },
     "metadata": {
      "needs_background": "light"
     },
     "output_type": "display_data"
    }
   ],
   "source": [
    "sns.barplot(x=\"sous_cible\",y=\"qte_venduescumuln\",data=data)"
   ]
  },
  {
   "cell_type": "code",
   "execution_count": 49,
   "id": "1dc5f213",
   "metadata": {},
   "outputs": [
    {
     "data": {
      "text/plain": [
       "<AxesSubplot:xlabel='sexe', ylabel='qte_venduescumuln'>"
      ]
     },
     "execution_count": 49,
     "metadata": {},
     "output_type": "execute_result"
    },
    {
     "data": {
      "image/png": "[encoded data removed]",
      "text/plain": [
       "<Figure size 432x288 with 1 Axes>"
      ]
     },
     "metadata": {
      "needs_background": "light"
     },
     "output_type": "display_data"
    }
   ],
   "source": [
    "sns.barplot(x=\"sexe\",y=\"qte_venduescumuln\",data=data)"
   ]
  },
  {
   "cell_type": "code",
   "execution_count": 53,
   "id": "c7194ecb",
   "metadata": {},
   "outputs": [
    {
     "data": {
      "text/plain": [
       "<AxesSubplot:xlabel='categorie', ylabel='qte_venduescumuln'>"
      ]
     },
     "execution_count": 53,
     "metadata": {},
     "output_type": "execute_result"
    },
    {
     "data": {
      "image/png": "[encoded data removed]",
      "text/plain": [
       "<Figure size 720x360 with 1 Axes>"
      ]
     },
     "metadata": {
      "needs_background": "light"
     },
     "output_type": "display_data"
    }
   ],
   "source": [
    "plt.figure(figsize=(10,5))\n",
    "sns.barplot(x=\"categorie\",y=\"qte_venduescumuln\",data=data)"
   ]
  },
  {
   "cell_type": "code",
   "execution_count": 52,
   "id": "b0ab8d9e",
   "metadata": {},
   "outputs": [
    {
     "data": {
      "text/plain": [
       "<AxesSubplot:xlabel='macro_categorie', ylabel='qte_venduescumuln'>"
      ]
     },
     "execution_count": 52,
     "metadata": {},
     "output_type": "execute_result"
    },
    {
     "data": {
      "image/png": "[encoded data removed]",
      "text/plain": [
       "<Figure size 1008x360 with 1 Axes>"
      ]
     },
     "metadata": {
      "needs_background": "light"
     },
     "output_type": "display_data"
    }
   ],
   "source": [
    "plt.figure(figsize=(14,5))\n",
    "sns.barplot(x=\"macro_categorie\",y=\"qte_venduescumuln\",data=data)"
   ]
  },
  {
   "cell_type": "code",
   "execution_count": 55,
   "id": "5e1f2101",
   "metadata": {},
   "outputs": [
    {
     "data": {
      "text/plain": [
       "<AxesSubplot:xlabel='saisonnalite', ylabel='qte_venduescumuln'>"
      ]
     },
     "execution_count": 55,
     "metadata": {},
     "output_type": "execute_result"
    },
    {
     "data": {
      "image/png": "[encoded data removed]",
      "text/plain": [
       "<Figure size 432x288 with 1 Axes>"
      ]
     },
     "metadata": {
      "needs_background": "light"
     },
     "output_type": "display_data"
    }
   ],
   "source": [
    "sns.barplot(x=\"saisonnalite\",y=\"qte_venduescumuln\",data=data)"
   ]
  },
  {
   "cell_type": "markdown",
   "id": "81284cc6",
   "metadata": {},
   "source": [
    "Categorical features to drop: "
   ]
  },
  {
   "cell_type": "code",
   "execution_count": 56,
   "id": "15d5a77d",
   "metadata": {},
   "outputs": [],
   "source": [
    "cat_drop_list = [\"cible\", \"nom_ref\", \"coloris\", \"matiere\"]"
   ]
  },
  {
   "cell_type": "markdown",
   "id": "39bbdba0",
   "metadata": {},
   "source": [
    "## Numerical Feature analysis"
   ]
  },
  {
   "cell_type": "code",
   "execution_count": 60,
   "id": "4a7381de",
   "metadata": {},
   "outputs": [
    {
     "data": {
      "text/html": [
       "<div>\n",
       "<style scoped>\n",
       "    .dataframe tbody tr th:only-of-type {\n",
       "        vertical-align: middle;\n",
       "    }\n",
       "\n",
       "    .dataframe tbody tr th {\n",
       "        vertical-align: top;\n",
       "    }\n",
       "\n",
       "    .dataframe thead th {\n",
       "        text-align: right;\n",
       "    }\n",
       "</style>\n",
       "<table border=\"1\" class=\"dataframe\">\n",
       "  <thead>\n",
       "    <tr style=\"text-align: right;\">\n",
       "      <th></th>\n",
       "      <th>rang</th>\n",
       "      <th>ca_net_ttcn</th>\n",
       "      <th>ca_net_ttc_1n</th>\n",
       "      <th>ca_net_ttc_2n</th>\n",
       "      <th>ca_net_ttc_3n</th>\n",
       "      <th>qte_venduesn</th>\n",
       "      <th>qte_vendues_1n</th>\n",
       "      <th>qte_vendues_2n</th>\n",
       "      <th>qte_vendues_3n</th>\n",
       "      <th>stock_pdvn</th>\n",
       "      <th>stk_transitn</th>\n",
       "      <th>stock_pdv__transit</th>\n",
       "      <th>ca_net_ttccumuln</th>\n",
       "      <th>qte_venduescumuln</th>\n",
       "      <th>nb_rcten_venten</th>\n",
       "      <th>nb_pdvavec_rc_en_venten</th>\n",
       "      <th>stk_dispoentrepotn</th>\n",
       "      <th>stk_hors_dispopour_reassortn</th>\n",
       "      <th>%</th>\n",
       "    </tr>\n",
       "  </thead>\n",
       "  <tbody>\n",
       "    <tr>\n",
       "      <th>count</th>\n",
       "      <td>15549</td>\n",
       "      <td>15549</td>\n",
       "      <td>15549</td>\n",
       "      <td>15549</td>\n",
       "      <td>15549</td>\n",
       "      <td>15549</td>\n",
       "      <td>15549</td>\n",
       "      <td>15549</td>\n",
       "      <td>15549</td>\n",
       "      <td>15549</td>\n",
       "      <td>15549</td>\n",
       "      <td>15549</td>\n",
       "      <td>15549</td>\n",
       "      <td>15549</td>\n",
       "      <td>15549</td>\n",
       "      <td>15549</td>\n",
       "      <td>15549</td>\n",
       "      <td>15549</td>\n",
       "      <td>15549</td>\n",
       "    </tr>\n",
       "    <tr>\n",
       "      <th>mean</th>\n",
       "      <td>899</td>\n",
       "      <td>1530</td>\n",
       "      <td>1759</td>\n",
       "      <td>1248</td>\n",
       "      <td>1490</td>\n",
       "      <td>83</td>\n",
       "      <td>88</td>\n",
       "      <td>58</td>\n",
       "      <td>68</td>\n",
       "      <td>447</td>\n",
       "      <td>9</td>\n",
       "      <td>456</td>\n",
       "      <td>24201</td>\n",
       "      <td>1025</td>\n",
       "      <td>4</td>\n",
       "      <td>83</td>\n",
       "      <td>152</td>\n",
       "      <td>135</td>\n",
       "      <td>16</td>\n",
       "    </tr>\n",
       "    <tr>\n",
       "      <th>std</th>\n",
       "      <td>421</td>\n",
       "      <td>2653</td>\n",
       "      <td>2912</td>\n",
       "      <td>1880</td>\n",
       "      <td>2271</td>\n",
       "      <td>135</td>\n",
       "      <td>140</td>\n",
       "      <td>85</td>\n",
       "      <td>104</td>\n",
       "      <td>692</td>\n",
       "      <td>23</td>\n",
       "      <td>703</td>\n",
       "      <td>31803</td>\n",
       "      <td>1223</td>\n",
       "      <td>3</td>\n",
       "      <td>67</td>\n",
       "      <td>431</td>\n",
       "      <td>433</td>\n",
       "      <td>18</td>\n",
       "    </tr>\n",
       "    <tr>\n",
       "      <th>min</th>\n",
       "      <td>1</td>\n",
       "      <td>-299</td>\n",
       "      <td>-584</td>\n",
       "      <td>-318</td>\n",
       "      <td>-547</td>\n",
       "      <td>-2</td>\n",
       "      <td>-8</td>\n",
       "      <td>-4</td>\n",
       "      <td>-4</td>\n",
       "      <td>-150</td>\n",
       "      <td>0</td>\n",
       "      <td>-150</td>\n",
       "      <td>-834</td>\n",
       "      <td>-6</td>\n",
       "      <td>0</td>\n",
       "      <td>0</td>\n",
       "      <td>-31</td>\n",
       "      <td>-2706</td>\n",
       "      <td>0</td>\n",
       "    </tr>\n",
       "    <tr>\n",
       "      <th>25%</th>\n",
       "      <td>556</td>\n",
       "      <td>0</td>\n",
       "      <td>0</td>\n",
       "      <td>0</td>\n",
       "      <td>0</td>\n",
       "      <td>0</td>\n",
       "      <td>0</td>\n",
       "      <td>0</td>\n",
       "      <td>0</td>\n",
       "      <td>0</td>\n",
       "      <td>0</td>\n",
       "      <td>0</td>\n",
       "      <td>1768</td>\n",
       "      <td>81</td>\n",
       "      <td>3</td>\n",
       "      <td>3</td>\n",
       "      <td>0</td>\n",
       "      <td>0</td>\n",
       "      <td>0</td>\n",
       "    </tr>\n",
       "    <tr>\n",
       "      <th>50%</th>\n",
       "      <td>1079</td>\n",
       "      <td>199</td>\n",
       "      <td>453</td>\n",
       "      <td>444</td>\n",
       "      <td>559</td>\n",
       "      <td>10</td>\n",
       "      <td>23</td>\n",
       "      <td>22</td>\n",
       "      <td>26</td>\n",
       "      <td>107</td>\n",
       "      <td>0</td>\n",
       "      <td>108</td>\n",
       "      <td>12628</td>\n",
       "      <td>590</td>\n",
       "      <td>5</td>\n",
       "      <td>98</td>\n",
       "      <td>0</td>\n",
       "      <td>0</td>\n",
       "      <td>20</td>\n",
       "    </tr>\n",
       "    <tr>\n",
       "      <th>75%</th>\n",
       "      <td>1204</td>\n",
       "      <td>2160</td>\n",
       "      <td>2466</td>\n",
       "      <td>1761</td>\n",
       "      <td>2047</td>\n",
       "      <td>123</td>\n",
       "      <td>124</td>\n",
       "      <td>84</td>\n",
       "      <td>92</td>\n",
       "      <td>718</td>\n",
       "      <td>7</td>\n",
       "      <td>730</td>\n",
       "      <td>35559</td>\n",
       "      <td>1565</td>\n",
       "      <td>7</td>\n",
       "      <td>150</td>\n",
       "      <td>50</td>\n",
       "      <td>34</td>\n",
       "      <td>30</td>\n",
       "    </tr>\n",
       "    <tr>\n",
       "      <th>max</th>\n",
       "      <td>2473</td>\n",
       "      <td>35302</td>\n",
       "      <td>46410</td>\n",
       "      <td>23292</td>\n",
       "      <td>27005</td>\n",
       "      <td>1297</td>\n",
       "      <td>1644</td>\n",
       "      <td>915</td>\n",
       "      <td>1042</td>\n",
       "      <td>17304</td>\n",
       "      <td>642</td>\n",
       "      <td>17304</td>\n",
       "      <td>455286</td>\n",
       "      <td>14057</td>\n",
       "      <td>11</td>\n",
       "      <td>171</td>\n",
       "      <td>7148</td>\n",
       "      <td>7148</td>\n",
       "      <td>50</td>\n",
       "    </tr>\n",
       "  </tbody>\n",
       "</table>\n",
       "</div>"
      ],
      "text/plain": [
       "        rang  ca_net_ttcn  ca_net_ttc_1n  ca_net_ttc_2n  ca_net_ttc_3n  \\\n",
       "count  15549        15549          15549          15549          15549   \n",
       "mean     899         1530           1759           1248           1490   \n",
       "std      421         2653           2912           1880           2271   \n",
       "min        1         -299           -584           -318           -547   \n",
       "25%      556            0              0              0              0   \n",
       "50%     1079          199            453            444            559   \n",
       "75%     1204         2160           2466           1761           2047   \n",
       "max     2473        35302          46410          23292          27005   \n",
       "\n",
       "       qte_venduesn  qte_vendues_1n  qte_vendues_2n  qte_vendues_3n  \\\n",
       "count         15549           15549           15549           15549   \n",
       "mean             83              88              58              68   \n",
       "std             135             140              85             104   \n",
       "min              -2              -8              -4              -4   \n",
       "25%               0               0               0               0   \n",
       "50%              10              23              22              26   \n",
       "75%             123             124              84              92   \n",
       "max            1297            1644             915            1042   \n",
       "\n",
       "       stock_pdvn  stk_transitn  stock_pdv__transit  ca_net_ttccumuln  \\\n",
       "count       15549         15549               15549             15549   \n",
       "mean          447             9                 456             24201   \n",
       "std           692            23                 703             31803   \n",
       "min          -150             0                -150              -834   \n",
       "25%             0             0                   0              1768   \n",
       "50%           107             0                 108             12628   \n",
       "75%           718             7                 730             35559   \n",
       "max         17304           642               17304            455286   \n",
       "\n",
       "       qte_venduescumuln  nb_rcten_venten  nb_pdvavec_rc_en_venten  \\\n",
       "count              15549            15549                    15549   \n",
       "mean                1025                4                       83   \n",
       "std                 1223                3                       67   \n",
       "min                   -6                0                        0   \n",
       "25%                   81                3                        3   \n",
       "50%                  590                5                       98   \n",
       "75%                 1565                7                      150   \n",
       "max                14057               11                      171   \n",
       "\n",
       "       stk_dispoentrepotn  stk_hors_dispopour_reassortn      %  \n",
       "count               15549                         15549  15549  \n",
       "mean                  152                           135     16  \n",
       "std                   431                           433     18  \n",
       "min                   -31                         -2706      0  \n",
       "25%                     0                             0      0  \n",
       "50%                     0                             0     20  \n",
       "75%                    50                            34     30  \n",
       "max                  7148                          7148     50  "
      ]
     },
     "execution_count": 60,
     "metadata": {},
     "output_type": "execute_result"
    }
   ],
   "source": [
    "num_data.describe().applymap(lambda x: round(x))"
   ]
  },
  {
   "cell_type": "code",
   "execution_count": 78,
   "id": "27237958",
   "metadata": {},
   "outputs": [
    {
     "data": {
      "text/plain": [
       "<AxesSubplot:xlabel='ca_net_ttcn', ylabel='qte_venduesn'>"
      ]
     },
     "execution_count": 78,
     "metadata": {},
     "output_type": "execute_result"
    },
    {
     "data": {
      "image/png": "[encoded data removed]",
      "text/plain": [
       "<Figure size 432x288 with 1 Axes>"
      ]
     },
     "metadata": {
      "needs_background": "light"
     },
     "output_type": "display_data"
    }
   ],
   "source": [
    "sns.regplot(x=\"ca_net_ttcn\",y=\"qte_venduesn\",data=num_data)"
   ]
  },
  {
   "cell_type": "code",
   "execution_count": 79,
   "id": "3ca5c13d",
   "metadata": {},
   "outputs": [
    {
     "data": {
      "text/plain": [
       "<AxesSubplot:xlabel='stock_pdvn', ylabel='qte_venduesn'>"
      ]
     },
     "execution_count": 79,
     "metadata": {},
     "output_type": "execute_result"
    },
    {
     "data": {
      "image/png": "[encoded data removed]",
      "text/plain": [
       "<Figure size 432x288 with 1 Axes>"
      ]
     },
     "metadata": {
      "needs_background": "light"
     },
     "output_type": "display_data"
    }
   ],
   "source": [
    "sns.regplot(x=\"stock_pdvn\",y=\"qte_venduesn\",data=num_data)"
   ]
  },
  {
   "cell_type": "code",
   "execution_count": 80,
   "id": "032643ec",
   "metadata": {},
   "outputs": [
    {
     "data": {
      "text/plain": [
       "<AxesSubplot:xlabel='stk_transitn', ylabel='qte_venduesn'>"
      ]
     },
     "execution_count": 80,
     "metadata": {},
     "output_type": "execute_result"
    },
    {
     "data": {
      "image/png": "[encoded data removed]",
      "text/plain": [
       "<Figure size 432x288 with 1 Axes>"
      ]
     },
     "metadata": {
      "needs_background": "light"
     },
     "output_type": "display_data"
    }
   ],
   "source": [
    "sns.regplot(x=\"stk_transitn\",y=\"qte_venduesn\",data=num_data)"
   ]
  },
  {
   "cell_type": "code",
   "execution_count": 81,
   "id": "7c4d812b",
   "metadata": {},
   "outputs": [
    {
     "data": {
      "text/plain": [
       "<AxesSubplot:xlabel='stk_dispoentrepotn', ylabel='qte_venduesn'>"
      ]
     },
     "execution_count": 81,
     "metadata": {},
     "output_type": "execute_result"
    },
    {
     "data": {
      "image/png": "[encoded data removed]",
      "text/plain": [
       "<Figure size 432x288 with 1 Axes>"
      ]
     },
     "metadata": {
      "needs_background": "light"
     },
     "output_type": "display_data"
    }
   ],
   "source": [
    "sns.regplot(x=\"stk_dispoentrepotn\",y=\"qte_venduesn\",data=num_data)"
   ]
  },
  {
   "cell_type": "code",
   "execution_count": null,
   "id": "a81c5326",
   "metadata": {},
   "outputs": [],
   "source": []
  }
 ],
 "metadata": {
  "kernelspec": {
   "display_name": "Python 3 (ipykernel)",
   "language": "python",
   "name": "python3"
  },
  "language_info": {
   "codemirror_mode": {
    "name": "ipython",
    "version": 3
   },
   "file_extension": ".py",
   "mimetype": "text/x-python",
   "name": "python",
   "nbconvert_exporter": "python",
   "pygments_lexer": "ipython3",
   "version": "3.8.12"
  },
  "toc": {
   "base_numbering": 1,
   "nav_menu": {},
   "number_sections": true,
   "sideBar": true,
   "skip_h1_title": false,
   "title_cell": "Table of Contents",
   "title_sidebar": "Contents",
   "toc_cell": false,
   "toc_position": {},
   "toc_section_display": true,
   "toc_window_display": false
  }
 },
 "nbformat": 4,
 "nbformat_minor": 5
}
